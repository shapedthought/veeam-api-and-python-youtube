{
 "cells": [
  {
   "cell_type": "markdown",
   "source": [
    "# Veeam API and Python Part 2 - Connecting to the Enterprise Manager API"
   ],
   "metadata": {}
  },
  {
   "cell_type": "markdown",
   "source": [
    "In this notebook we will go through the process of connecting to the Veeam API.\r\n",
    "\r\n",
    "First you will need to install the following:\r\n",
    "\r\n",
    "    pip install jupyter\r\n",
    "    pip install requests\r\n",
    "\r\n",
    "Once you've done that, you will need to import the requests HTTP package into the notebook."
   ],
   "metadata": {}
  },
  {
   "cell_type": "code",
   "execution_count": 1,
   "source": [
    "import requests"
   ],
   "outputs": [],
   "metadata": {}
  },
  {
   "cell_type": "markdown",
   "source": [
    "As you are likely using a Self-Signed Certificate we will want to suppress the warnings."
   ],
   "metadata": {}
  },
  {
   "cell_type": "code",
   "execution_count": 2,
   "source": [
    "import urllib3\r\n",
    "urllib3.disable_warnings()"
   ],
   "outputs": [],
   "metadata": {}
  },
  {
   "cell_type": "markdown",
   "source": [
    "We also need to import the Basic Authentication module from the requests package and also getpass to allow for more secure password entry."
   ],
   "metadata": {}
  },
  {
   "cell_type": "code",
   "execution_count": 20,
   "source": [
    "from requests.auth import HTTPBasicAuth\r\n",
    "import getpass"
   ],
   "outputs": [],
   "metadata": {}
  },
  {
   "cell_type": "markdown",
   "source": [
    "Next we need to get our credentials and create the authorization header using the Basic Authentication module"
   ],
   "metadata": {}
  },
  {
   "cell_type": "code",
   "execution_count": 22,
   "source": [
    "address= input(\"Address of Server: \")\r\n",
    "username = input(\"Username: \")\r\n",
    "password = getpass.getpass()\r\n",
    "auth = HTTPBasicAuth(username, password)"
   ],
   "outputs": [],
   "metadata": {}
  },
  {
   "cell_type": "markdown",
   "source": [
    "Now we can request the token"
   ],
   "metadata": {}
  },
  {
   "cell_type": "code",
   "execution_count": 25,
   "source": [
    "url = f\"https://{address}:9398/api/sessionMngr/?v=1_6\"\r\n",
    "response = requests.post(url, auth=auth, verify=False)\r\n",
    "print(response.status_code)"
   ],
   "outputs": [
    {
     "output_type": "stream",
     "name": "stdout",
     "text": [
      "201\n"
     ]
    }
   ],
   "metadata": {}
  },
  {
   "cell_type": "markdown",
   "source": [
    "Get the token and assign it to the header, this can be done a couple ways:"
   ],
   "metadata": {}
  },
  {
   "cell_type": "code",
   "execution_count": 31,
   "source": [
    "# Create headers dictionary then add the token\r\n",
    "headers = {\"Accept\": \"application/json\"}\r\n",
    "headers['X-RestSvcSessionId'] = response.headers.get(\"X-RestSvcSessionId\")"
   ],
   "outputs": [],
   "metadata": {}
  },
  {
   "cell_type": "code",
   "execution_count": 30,
   "source": [
    "# create a dictionary directly\r\n",
    "header = {\r\n",
    "    \"Accept\": \"application/json\",\r\n",
    "    \"X-RestSvcSessionId\": response.headers.get(\"X-RestSvcSessionId\")\r\n",
    "}"
   ],
   "outputs": [],
   "metadata": {}
  },
  {
   "cell_type": "code",
   "execution_count": 32,
   "source": [
    "headers"
   ],
   "outputs": [
    {
     "output_type": "execute_result",
     "data": {
      "text/plain": [
       "{'Accept': 'application/json',\n",
       " 'X-RestSvcSessionId': 'MWI0ODMxZmEtZTgxNi00ZGQyLWFmNjgtODAzNWE5NjQwNGZj'}"
      ]
     },
     "metadata": {},
     "execution_count": 32
    }
   ],
   "metadata": {}
  },
  {
   "cell_type": "markdown",
   "source": [
    "We are now ready to start making request. \r\n",
    "\r\n",
    "For example:"
   ],
   "metadata": {}
  },
  {
   "cell_type": "code",
   "execution_count": 33,
   "source": [
    "url = f\"https://{address}:9398/api/backupServers\"\r\n",
    "\r\n",
    "bu_res = requests.get(url, headers=headers, verify=False)"
   ],
   "outputs": [],
   "metadata": {}
  },
  {
   "cell_type": "code",
   "execution_count": 34,
   "source": [
    "bu_res.status_code"
   ],
   "outputs": [
    {
     "output_type": "execute_result",
     "data": {
      "text/plain": [
       "200"
      ]
     },
     "metadata": {},
     "execution_count": 34
    }
   ],
   "metadata": {}
  },
  {
   "cell_type": "code",
   "execution_count": 35,
   "source": [
    "bu_data = bu_res.json()\r\n",
    "bu_data"
   ],
   "outputs": [
    {
     "output_type": "execute_result",
     "data": {
      "text/plain": [
       "{'Refs': [{'Links': [{'Rel': 'Down',\n",
       "     'Href': 'https://192.168.3.137:9398/api/backupServers/36a6cec7-f3d9-4c42-913d-ef7fec97a0b1/jobs',\n",
       "     'Name': None,\n",
       "     'Type': 'JobReferenceList'},\n",
       "    {'Rel': 'Down',\n",
       "     'Href': 'https://192.168.3.137:9398/api/backupServers/36a6cec7-f3d9-4c42-913d-ef7fec97a0b1/repositories',\n",
       "     'Name': None,\n",
       "     'Type': 'RepositoryReferenceList'},\n",
       "    {'Rel': 'Down',\n",
       "     'Href': 'https://192.168.3.137:9398/api/backupServers/36a6cec7-f3d9-4c42-913d-ef7fec97a0b1/externalRepositories',\n",
       "     'Name': None,\n",
       "     'Type': 'ExternalRepositoryReferenceList'},\n",
       "    {'Rel': 'Down',\n",
       "     'Href': 'https://192.168.3.137:9398/api/backupServers/36a6cec7-f3d9-4c42-913d-ef7fec97a0b1/credentials',\n",
       "     'Name': None,\n",
       "     'Type': 'CredentialsList'},\n",
       "    {'Rel': 'Down',\n",
       "     'Href': 'https://192.168.3.137:9398/api/backupServers/36a6cec7-f3d9-4c42-913d-ef7fec97a0b1/passwords',\n",
       "     'Name': None,\n",
       "     'Type': 'PasswordKeyList'},\n",
       "    {'Rel': 'Alternate',\n",
       "     'Href': 'https://192.168.3.137:9398/api/backupServers/36a6cec7-f3d9-4c42-913d-ef7fec97a0b1?format=Entity',\n",
       "     'Name': '192.168.4.44',\n",
       "     'Type': 'BackupServer'},\n",
       "    {'Rel': 'Down',\n",
       "     'Href': 'https://192.168.3.137:9398/api/backupServers/36a6cec7-f3d9-4c42-913d-ef7fec97a0b1/managedServers',\n",
       "     'Name': None,\n",
       "     'Type': 'ManagedServerReferenceList'}],\n",
       "   'UID': 'urn:veeam:BackupServer:36a6cec7-f3d9-4c42-913d-ef7fec97a0b1',\n",
       "   'Name': '192.168.4.44',\n",
       "   'Href': 'https://192.168.3.137:9398/api/backupServers/36a6cec7-f3d9-4c42-913d-ef7fec97a0b1',\n",
       "   'Type': 'BackupServerReference'}]}"
      ]
     },
     "metadata": {},
     "execution_count": 35
    }
   ],
   "metadata": {}
  },
  {
   "cell_type": "code",
   "execution_count": null,
   "source": [],
   "outputs": [],
   "metadata": {}
  }
 ],
 "metadata": {
  "orig_nbformat": 4,
  "language_info": {
   "name": "python",
   "version": "3.8.8",
   "mimetype": "text/x-python",
   "codemirror_mode": {
    "name": "ipython",
    "version": 3
   },
   "pygments_lexer": "ipython3",
   "nbconvert_exporter": "python",
   "file_extension": ".py"
  },
  "kernelspec": {
   "name": "python3",
   "display_name": "Python 3.8.8 64-bit"
  },
  "interpreter": {
   "hash": "9ab5339a2bc17ebba7b44d467b46d6ee2c527c06982a00d1b3f9cd63d7280f7d"
  }
 },
 "nbformat": 4,
 "nbformat_minor": 2
}