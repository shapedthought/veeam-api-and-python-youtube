{
 "cells": [
  {
   "cell_type": "markdown",
   "source": [
    "# Veeam API and Python Part 5 - Exploring the API aka how to work with response data\r\n",
    "\r\n",
    "In this notebook we will go over some of the methods that I work with the data you get back from the API.\r\n",
    "\r\n",
    "First the imports:"
   ],
   "metadata": {}
  },
  {
   "cell_type": "code",
   "execution_count": 2,
   "source": [
    "from veeam_easy_connect import VeeamEasyConnect\r\n",
    "import requests\r\n",
    "import urllib3\r\n",
    "urllib3.disable_warnings()"
   ],
   "outputs": [],
   "metadata": {}
  },
  {
   "cell_type": "markdown",
   "source": [
    "Next log into the v11 API using Veeam Easy Connect"
   ],
   "metadata": {}
  },
  {
   "cell_type": "code",
   "execution_count": 4,
   "source": [
    "veeam_ec = VeeamEasyConnect()\r\n",
    "header = veeam_ec.v11_login()"
   ],
   "outputs": [],
   "metadata": {}
  },
  {
   "cell_type": "markdown",
   "source": [
    "Create a function to make the calls to reduce the amount of code reuse."
   ],
   "metadata": {}
  },
  {
   "cell_type": "code",
   "execution_count": 5,
   "source": [
    "def get_data(url: str, headers: dict) -> dict:\r\n",
    "    res = requests.get(url, headers=headers, verify=False)\r\n",
    "    res.raise_for_status() # will raise an error if we don't get a 2** status code\r\n",
    "    res_data = res.json()\r\n",
    "    return res_data"
   ],
   "outputs": [],
   "metadata": {}
  },
  {
   "cell_type": "markdown",
   "source": [
    "Grab an endpoint from the Veeam Documentation, in this case we will use the /api/v1/jobs endpoint."
   ],
   "metadata": {}
  },
  {
   "cell_type": "code",
   "execution_count": 6,
   "source": [
    "address = input(\"Enter Server Address: \")\r\n",
    "url = f\"https://{address}:9419/api/v1/jobs\""
   ],
   "outputs": [],
   "metadata": {}
  },
  {
   "cell_type": "markdown",
   "source": [
    "Then make a request to get the data"
   ],
   "metadata": {}
  },
  {
   "cell_type": "code",
   "execution_count": 7,
   "source": [
    "job_data = get_data(url, header)"
   ],
   "outputs": [],
   "metadata": {}
  },
  {
   "cell_type": "markdown",
   "source": [
    "## Save the data for later use\r\n",
    "\r\n",
    "Here is how you can save the data to a JSON file that can be read later."
   ],
   "metadata": {}
  },
  {
   "cell_type": "code",
   "execution_count": 62,
   "source": [
    "import json\r\n",
    "with open(\"job_data2.json\", \"w\") as job_data_file:\r\n",
    "    json.dump(job_data, job_data_file)"
   ],
   "outputs": [],
   "metadata": {}
  },
  {
   "cell_type": "markdown",
   "source": [
    "And here is how you can read the data back in."
   ],
   "metadata": {}
  },
  {
   "cell_type": "code",
   "execution_count": null,
   "source": [
    "with open(\"job_data2.json\", \"r\") as job_data_file:\r\n",
    "    job_data = json.load(job_data_file)"
   ],
   "outputs": [],
   "metadata": {}
  },
  {
   "cell_type": "markdown",
   "source": [
    "## Data Structures\r\n",
    "\r\n",
    "An example of a List (aka Array) and how to pull out a value using an index"
   ],
   "metadata": {}
  },
  {
   "cell_type": "code",
   "execution_count": 63,
   "source": [
    "my_list = [1,2,3,4,5,6,7,8]"
   ],
   "outputs": [],
   "metadata": {}
  },
  {
   "cell_type": "code",
   "execution_count": 65,
   "source": [
    "my_list[1]"
   ],
   "outputs": [
    {
     "output_type": "execute_result",
     "data": {
      "text/plain": [
       "2"
      ]
     },
     "metadata": {},
     "execution_count": 65
    }
   ],
   "metadata": {}
  },
  {
   "cell_type": "markdown",
   "source": [
    "An Example of an Dictionary (aka object)"
   ],
   "metadata": {}
  },
  {
   "cell_type": "code",
   "execution_count": 22,
   "source": [
    "data = {\r\n",
    "    \"name\": \"ed\", \r\n",
    "    \"age\": 32\r\n",
    "}"
   ],
   "outputs": [],
   "metadata": {}
  },
  {
   "cell_type": "markdown",
   "source": [
    "How we can get one value by calling the key"
   ],
   "metadata": {}
  },
  {
   "cell_type": "code",
   "execution_count": 23,
   "source": [
    "data['name']"
   ],
   "outputs": [
    {
     "output_type": "execute_result",
     "data": {
      "text/plain": [
       "'ed'"
      ]
     },
     "metadata": {},
     "execution_count": 23
    }
   ],
   "metadata": {}
  },
  {
   "cell_type": "markdown",
   "source": [
    "And how we can get all the keys and values"
   ],
   "metadata": {}
  },
  {
   "cell_type": "code",
   "execution_count": 3,
   "source": [
    "print(data.keys())\r\n",
    "print(data.values())"
   ],
   "outputs": [
    {
     "output_type": "stream",
     "name": "stdout",
     "text": [
      "dict_keys(['name', 'age'])\n",
      "dict_values(['ed', 32])\n"
     ]
    }
   ],
   "metadata": {}
  },
  {
   "cell_type": "markdown",
   "source": [
    "Here we are showing that we can create a List of Dictionaries (Array of Objects)"
   ],
   "metadata": {}
  },
  {
   "cell_type": "code",
   "execution_count": 4,
   "source": [
    "dict_list = [data, data, data, data]"
   ],
   "outputs": [],
   "metadata": {}
  },
  {
   "cell_type": "code",
   "execution_count": 5,
   "source": [
    "dict_list"
   ],
   "outputs": [
    {
     "output_type": "execute_result",
     "data": {
      "text/plain": [
       "[{'name': 'ed', 'age': 32},\n",
       " {'name': 'ed', 'age': 32},\n",
       " {'name': 'ed', 'age': 32},\n",
       " {'name': 'ed', 'age': 32}]"
      ]
     },
     "metadata": {},
     "execution_count": 5
    }
   ],
   "metadata": {}
  },
  {
   "cell_type": "markdown",
   "source": [
    "And how we can first index out the first dictionary and then access a key in the dictionary"
   ],
   "metadata": {}
  },
  {
   "cell_type": "code",
   "execution_count": 6,
   "source": [
    "dict_list[0]['name']"
   ],
   "outputs": [
    {
     "output_type": "execute_result",
     "data": {
      "text/plain": [
       "'ed'"
      ]
     },
     "metadata": {},
     "execution_count": 6
    }
   ],
   "metadata": {}
  },
  {
   "cell_type": "markdown",
   "source": [
    "## /api/v1/jobs object/dict walk through\r\n",
    "\r\n",
    "Here we will walk through the dictionary that we received back from the API to pull out relevant data.\r\n",
    "\r\n",
    "The aim here is to be able to create a new list of dictionaries that have the:\r\n",
    "\r\n",
    "* Job Name\r\n",
    "* VMs in the Job\r\n",
    "\r\n",
    "We start with checking for the keys in the response."
   ],
   "metadata": {}
  },
  {
   "cell_type": "code",
   "execution_count": 12,
   "source": [
    "job_data.keys()"
   ],
   "outputs": [
    {
     "output_type": "execute_result",
     "data": {
      "text/plain": [
       "dict_keys(['data', 'pagination'])"
      ]
     },
     "metadata": {},
     "execution_count": 12
    }
   ],
   "metadata": {}
  },
  {
   "cell_type": "markdown",
   "source": [
    "Here we can see we have to keys, we want to follow the 'data' path\r\n",
    "\r\n",
    "NOTE the \";\" has been added to remove the output for GitHub, remove when running it yourself."
   ],
   "metadata": {}
  },
  {
   "cell_type": "code",
   "execution_count": 9,
   "source": [
    "job_data['data'];"
   ],
   "outputs": [],
   "metadata": {}
  },
  {
   "cell_type": "markdown",
   "source": [
    "We can see from the [ that we are looking at a List so we need to index the first item out (job)"
   ],
   "metadata": {}
  },
  {
   "cell_type": "code",
   "execution_count": 11,
   "source": [
    "job_data['data'][0];"
   ],
   "outputs": [],
   "metadata": {}
  },
  {
   "cell_type": "markdown",
   "source": [
    "That removes the [ at the start so we know we are looking at a Dictionary.\r\n",
    "\r\n",
    "Next we can have a look at the keys"
   ],
   "metadata": {}
  },
  {
   "cell_type": "code",
   "execution_count": 12,
   "source": [
    "job_data['data'][0].keys()"
   ],
   "outputs": [
    {
     "output_type": "execute_result",
     "data": {
      "text/plain": [
       "dict_keys(['isHighPriority', 'virtualMachines', 'storage', 'guestProcessing', 'schedule', 'type', 'id', 'name', 'description', 'isDisabled'])"
      ]
     },
     "metadata": {},
     "execution_count": 12
    }
   ],
   "metadata": {}
  },
  {
   "cell_type": "markdown",
   "source": [
    "Looking at the saved JSON file we know that the VMs are inside the \"virtualMachines\" and the Job name is under \"name\".\r\n",
    "\r\n",
    "We'll aim for the Job name first"
   ],
   "metadata": {}
  },
  {
   "cell_type": "code",
   "execution_count": 13,
   "source": [
    "job_data['data'][0]['name']"
   ],
   "outputs": [
    {
     "output_type": "execute_result",
     "data": {
      "text/plain": [
       "'ActiveDirectory'"
      ]
     },
     "metadata": {},
     "execution_count": 13
    }
   ],
   "metadata": {}
  },
  {
   "cell_type": "markdown",
   "source": [
    "Next we need to follow the same process as before, following data structure to the data we need."
   ],
   "metadata": {}
  },
  {
   "cell_type": "code",
   "execution_count": 14,
   "source": [
    "job_data['data'][0]['virtualMachines']['includes'][0]['inventoryObject']['name']"
   ],
   "outputs": [
    {
     "output_type": "execute_result",
     "data": {
      "text/plain": [
       "'WS2016-AD-DNS'"
      ]
     },
     "metadata": {},
     "execution_count": 14
    }
   ],
   "metadata": {}
  },
  {
   "cell_type": "markdown",
   "source": [
    "Here we will use a double loop to get the data from the API response that we want."
   ],
   "metadata": {}
  },
  {
   "cell_type": "code",
   "execution_count": 15,
   "source": [
    "# Create a list to receive the new dicts\r\n",
    "job_vm_map = []\r\n",
    "\r\n",
    "# Start the first loop\r\n",
    "for i in job_data['data']:\r\n",
    "    # create a temporary list to hold all the VM names from each job\r\n",
    "    vm_names = []\r\n",
    "    # Start the second loop through the VM dicts\r\n",
    "    for j in i['virtualMachines']['includes']:\r\n",
    "        data = j['inventoryObject']['name']\r\n",
    "        # Add them to the temporary List\r\n",
    "        vm_names.append(data)\r\n",
    "    # Create a new dict with the Job Name and the VMs\r\n",
    "    job_info = {\r\n",
    "        \"jobName\": i['name'],\r\n",
    "        \"vmsInJob\": vm_names\r\n",
    "    }\r\n",
    "    # Add that to the first list\r\n",
    "    job_vm_map.append(job_info)"
   ],
   "outputs": [],
   "metadata": {}
  },
  {
   "cell_type": "markdown",
   "source": [
    "Finally, we can now look at the new List of Dicts which have the Job Names and VMs mapped"
   ],
   "metadata": {}
  },
  {
   "cell_type": "code",
   "execution_count": 16,
   "source": [
    "job_vm_map"
   ],
   "outputs": [
    {
     "output_type": "execute_result",
     "data": {
      "text/plain": [
       "[{'jobName': 'ActiveDirectory', 'vmsInJob': ['WS2016-AD-DNS']},\n",
       " {'jobName': 'k8s',\n",
       "  'vmsInJob': ['K8s-Control', 'K8s-Worker1', 'K8s-Worker2', 'K8s-Worker3']},\n",
       " {'jobName': 'Mixed SOBR', 'vmsInJob': ['Small Debian2']},\n",
       " {'jobName': 'PerJob', 'vmsInJob': ['Small Debian2', 'Small Debian3']},\n",
       " {'jobName': 'SQL1', 'vmsInJob': ['SQL1']},\n",
       " {'jobName': 'Tiny NFS vm', 'vmsInJob': ['TinyVM']},\n",
       " {'jobName': 'TinyVM2Netapp', 'vmsInJob': ['TinyVM']}]"
      ]
     },
     "metadata": {},
     "execution_count": 16
    }
   ],
   "metadata": {}
  },
  {
   "cell_type": "markdown",
   "source": [
    "Next video we will take a look at Pandas 🐼"
   ],
   "metadata": {}
  },
  {
   "cell_type": "markdown",
   "source": [],
   "metadata": {}
  }
 ],
 "metadata": {
  "orig_nbformat": 4,
  "language_info": {
   "name": "python",
   "version": "3.9.6",
   "mimetype": "text/x-python",
   "codemirror_mode": {
    "name": "ipython",
    "version": 3
   },
   "pygments_lexer": "ipython3",
   "nbconvert_exporter": "python",
   "file_extension": ".py"
  },
  "kernelspec": {
   "name": "python3",
   "display_name": "Python 3.9.6 64-bit"
  },
  "interpreter": {
   "hash": "907c7fe4cb4e511b42727ae84c4d85e9a0cc88b3b995d6fcfd67872026398923"
  }
 },
 "nbformat": 4,
 "nbformat_minor": 2
}