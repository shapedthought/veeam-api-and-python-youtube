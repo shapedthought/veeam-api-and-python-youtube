{
 "cells": [
  {
   "cell_type": "markdown",
   "metadata": {},
   "source": [
    "# Veeam API and Python Part 3 - Using Easy Connect\n",
    "\n",
    "### Updated with the new version of Veeam Easy Connect!\n",
    "\n",
    "First go to:\n",
    "\n",
    "https://github.com/shapedthought/veeam-easy-connect \n",
    "\n",
    "Download the repo and copy the veeam_easy_connect.py into the same directory as your Juypter Notebook.\n",
    "\n",
    "Next import the module\n"
   ]
  },
  {
   "cell_type": "code",
   "execution_count": 2,
   "metadata": {},
   "outputs": [],
   "source": [
    "from veeam_easy_connect import VeeamEasyConnect\n",
    "import getpass"
   ]
  },
  {
   "cell_type": "markdown",
   "metadata": {},
   "source": [
    "Create an instance of the Veeam Easy Connect class"
   ]
  },
  {
   "cell_type": "code",
   "execution_count": 3,
   "metadata": {},
   "outputs": [],
   "source": [
    "username = \"username\"\n",
    "password = getpass.getpass(\"Enter password: \")\n",
    "veeam_ec = VeeamEasyConnect(username, password, False) # insecure"
   ]
  },
  {
   "cell_type": "markdown",
   "metadata": {},
   "source": [
    "Connect to either the Enterprise Manager API:\n",
    "\n",
    "veeam_ec.ent_man().login(server_address)\n",
    "\n",
    "Or the v11 API:\n",
    "\n",
    "veeam_ec.vbr().login(server_address)"
   ]
  },
  {
   "cell_type": "code",
   "execution_count": 5,
   "metadata": {},
   "outputs": [],
   "source": [
    "ent_man_address = \"YOUR_ENTERPRISE_MANAGER_ADDRESS\" # ip or DNS\n",
    "veeam_ec.ent_man().login(ent_man_address)"
   ]
  },
  {
   "cell_type": "markdown",
   "metadata": {},
   "source": [
    "You can check the headers with:"
   ]
  },
  {
   "cell_type": "code",
   "execution_count": 6,
   "metadata": {},
   "outputs": [
    {
     "data": {
      "text/plain": [
       "{'Accept': 'application/json',\n",
       " 'X-RestSvcSessionId': 'MTNkNTRhMjktMWRlZi00NjllLThmYWItNzk3OGEyNGYyYzQz'}"
      ]
     },
     "execution_count": 6,
     "metadata": {},
     "output_type": "execute_result"
    }
   ],
   "source": [
    "veeam_ec.get_request_header()"
   ]
  },
  {
   "cell_type": "markdown",
   "metadata": {},
   "source": [
    "Create the URL string of the data we want and then send the request"
   ]
  },
  {
   "cell_type": "code",
   "execution_count": 10,
   "metadata": {},
   "outputs": [],
   "source": [
    "url = \"https://192.168.0.106:9398/api/backupServers\"\n",
    "\n",
    "bu_data = veeam_ec.get(url)"
   ]
  },
  {
   "cell_type": "code",
   "execution_count": 11,
   "metadata": {},
   "outputs": [
    {
     "data": {
      "text/plain": [
       "{'Refs': [{'Links': [{'Rel': 'Down',\n",
       "     'Href': 'https://192.168.3.137:9398/api/backupServers/36a6cec7-f3d9-4c42-913d-ef7fec97a0b1/jobs',\n",
       "     'Name': None,\n",
       "     'Type': 'JobReferenceList'},\n",
       "    {'Rel': 'Down',\n",
       "     'Href': 'https://192.168.3.137:9398/api/backupServers/36a6cec7-f3d9-4c42-913d-ef7fec97a0b1/repositories',\n",
       "     'Name': None,\n",
       "     'Type': 'RepositoryReferenceList'},\n",
       "    {'Rel': 'Down',\n",
       "     'Href': 'https://192.168.3.137:9398/api/backupServers/36a6cec7-f3d9-4c42-913d-ef7fec97a0b1/externalRepositories',\n",
       "     'Name': None,\n",
       "     'Type': 'ExternalRepositoryReferenceList'},\n",
       "    {'Rel': 'Down',\n",
       "     'Href': 'https://192.168.3.137:9398/api/backupServers/36a6cec7-f3d9-4c42-913d-ef7fec97a0b1/credentials',\n",
       "     'Name': None,\n",
       "     'Type': 'CredentialsList'},\n",
       "    {'Rel': 'Down',\n",
       "     'Href': 'https://192.168.3.137:9398/api/backupServers/36a6cec7-f3d9-4c42-913d-ef7fec97a0b1/passwords',\n",
       "     'Name': None,\n",
       "     'Type': 'PasswordKeyList'},\n",
       "    {'Rel': 'Alternate',\n",
       "     'Href': 'https://192.168.3.137:9398/api/backupServers/36a6cec7-f3d9-4c42-913d-ef7fec97a0b1?format=Entity',\n",
       "     'Name': '192.168.4.44',\n",
       "     'Type': 'BackupServer'},\n",
       "    {'Rel': 'Down',\n",
       "     'Href': 'https://192.168.3.137:9398/api/backupServers/36a6cec7-f3d9-4c42-913d-ef7fec97a0b1/managedServers',\n",
       "     'Name': None,\n",
       "     'Type': 'ManagedServerReferenceList'}],\n",
       "   'UID': 'urn:veeam:BackupServer:36a6cec7-f3d9-4c42-913d-ef7fec97a0b1',\n",
       "   'Name': '192.168.4.44',\n",
       "   'Href': 'https://192.168.3.137:9398/api/backupServers/36a6cec7-f3d9-4c42-913d-ef7fec97a0b1',\n",
       "   'Type': 'BackupServerReference'}]}"
      ]
     },
     "execution_count": 11,
     "metadata": {},
     "output_type": "execute_result"
    }
   ],
   "source": [
    "bu_data"
   ]
  },
  {
   "cell_type": "code",
   "execution_count": null,
   "metadata": {},
   "outputs": [],
   "source": []
  }
 ],
 "metadata": {
  "interpreter": {
   "hash": "907c7fe4cb4e511b42727ae84c4d85e9a0cc88b3b995d6fcfd67872026398923"
  },
  "kernelspec": {
   "display_name": "Python 3.9.6 64-bit",
   "name": "python3"
  },
  "language_info": {
   "codemirror_mode": {
    "name": "ipython",
    "version": 3
   },
   "file_extension": ".py",
   "mimetype": "text/x-python",
   "name": "python",
   "nbconvert_exporter": "python",
   "pygments_lexer": "ipython3",
   "version": "3.9.6"
  },
  "orig_nbformat": 4
 },
 "nbformat": 4,
 "nbformat_minor": 2
}
