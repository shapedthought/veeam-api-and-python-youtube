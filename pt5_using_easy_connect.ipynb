{
 "cells": [
  {
   "cell_type": "markdown",
   "source": [
    "# Veeam API and Python Part 3 - Using Easy Connect\r\n",
    "\r\n",
    "First go to:\r\n",
    "\r\n",
    "https://github.com/shapedthought/veeam-easy-connect \r\n",
    "\r\n",
    "Download the repo and copy the veeam_easy_connect.py into the same directory as your Juypter Notebook.\r\n",
    "\r\n",
    "Next import the module"
   ],
   "metadata": {}
  },
  {
   "cell_type": "code",
   "execution_count": 2,
   "source": [
    "from veeam_easy_connect import VeeamEasyConnect"
   ],
   "outputs": [],
   "metadata": {}
  },
  {
   "cell_type": "markdown",
   "source": [
    "Create an instance of the Veeam Easy Connect class"
   ],
   "metadata": {}
  },
  {
   "cell_type": "code",
   "execution_count": 3,
   "source": [
    "veeam_ec = VeeamEasyConnect()"
   ],
   "outputs": [],
   "metadata": {}
  },
  {
   "cell_type": "markdown",
   "source": [
    "Connect to either the Enterprise Manager API:\r\n",
    "\r\n",
    "headers = veeam_ec.em_login()\r\n",
    "\r\n",
    "Or the v11 API:\r\n",
    "\r\n",
    "headers = veeam_ec.v11_login()"
   ],
   "metadata": {}
  },
  {
   "cell_type": "code",
   "execution_count": 5,
   "source": [
    "headers = veeam_ec.em_login()"
   ],
   "outputs": [],
   "metadata": {}
  },
  {
   "cell_type": "markdown",
   "source": [
    "Check we got the headers back."
   ],
   "metadata": {}
  },
  {
   "cell_type": "code",
   "execution_count": 6,
   "source": [
    "headers"
   ],
   "outputs": [
    {
     "output_type": "execute_result",
     "data": {
      "text/plain": [
       "{'Accept': 'application/json',\n",
       " 'X-RestSvcSessionId': 'MTNkNTRhMjktMWRlZi00NjllLThmYWItNzk3OGEyNGYyYzQz'}"
      ]
     },
     "metadata": {},
     "execution_count": 6
    }
   ],
   "metadata": {}
  },
  {
   "cell_type": "markdown",
   "source": [
    "Add our usual imports"
   ],
   "metadata": {}
  },
  {
   "cell_type": "code",
   "execution_count": 7,
   "source": [
    "import requests\r\n",
    "import urllib3\r\n",
    "urllib3.disable_warnings()"
   ],
   "outputs": [],
   "metadata": {}
  },
  {
   "cell_type": "markdown",
   "source": [
    "Define a get function to reduce code reuse."
   ],
   "metadata": {}
  },
  {
   "cell_type": "code",
   "execution_count": 9,
   "source": [
    "def get_data(url: str, headers: dict) -> dict:\r\n",
    "    res = requests.get(url, headers=headers, verify=False)\r\n",
    "    res.raise_for_status() # will raise an error if we don't get a 2** status code\r\n",
    "    res_data = res.json()\r\n",
    "    return res_data"
   ],
   "outputs": [],
   "metadata": {}
  },
  {
   "cell_type": "markdown",
   "source": [
    "Create the URL string of the data we want and then send the request"
   ],
   "metadata": {}
  },
  {
   "cell_type": "code",
   "execution_count": 10,
   "source": [
    "url = \"https://192.168.3.137:9398/api/backupServers\"\r\n",
    "\r\n",
    "bu_data = get_data(url, headers)"
   ],
   "outputs": [],
   "metadata": {}
  },
  {
   "cell_type": "code",
   "execution_count": 11,
   "source": [
    "bu_data"
   ],
   "outputs": [
    {
     "output_type": "execute_result",
     "data": {
      "text/plain": [
       "{'Refs': [{'Links': [{'Rel': 'Down',\n",
       "     'Href': 'https://192.168.3.137:9398/api/backupServers/36a6cec7-f3d9-4c42-913d-ef7fec97a0b1/jobs',\n",
       "     'Name': None,\n",
       "     'Type': 'JobReferenceList'},\n",
       "    {'Rel': 'Down',\n",
       "     'Href': 'https://192.168.3.137:9398/api/backupServers/36a6cec7-f3d9-4c42-913d-ef7fec97a0b1/repositories',\n",
       "     'Name': None,\n",
       "     'Type': 'RepositoryReferenceList'},\n",
       "    {'Rel': 'Down',\n",
       "     'Href': 'https://192.168.3.137:9398/api/backupServers/36a6cec7-f3d9-4c42-913d-ef7fec97a0b1/externalRepositories',\n",
       "     'Name': None,\n",
       "     'Type': 'ExternalRepositoryReferenceList'},\n",
       "    {'Rel': 'Down',\n",
       "     'Href': 'https://192.168.3.137:9398/api/backupServers/36a6cec7-f3d9-4c42-913d-ef7fec97a0b1/credentials',\n",
       "     'Name': None,\n",
       "     'Type': 'CredentialsList'},\n",
       "    {'Rel': 'Down',\n",
       "     'Href': 'https://192.168.3.137:9398/api/backupServers/36a6cec7-f3d9-4c42-913d-ef7fec97a0b1/passwords',\n",
       "     'Name': None,\n",
       "     'Type': 'PasswordKeyList'},\n",
       "    {'Rel': 'Alternate',\n",
       "     'Href': 'https://192.168.3.137:9398/api/backupServers/36a6cec7-f3d9-4c42-913d-ef7fec97a0b1?format=Entity',\n",
       "     'Name': '192.168.4.44',\n",
       "     'Type': 'BackupServer'},\n",
       "    {'Rel': 'Down',\n",
       "     'Href': 'https://192.168.3.137:9398/api/backupServers/36a6cec7-f3d9-4c42-913d-ef7fec97a0b1/managedServers',\n",
       "     'Name': None,\n",
       "     'Type': 'ManagedServerReferenceList'}],\n",
       "   'UID': 'urn:veeam:BackupServer:36a6cec7-f3d9-4c42-913d-ef7fec97a0b1',\n",
       "   'Name': '192.168.4.44',\n",
       "   'Href': 'https://192.168.3.137:9398/api/backupServers/36a6cec7-f3d9-4c42-913d-ef7fec97a0b1',\n",
       "   'Type': 'BackupServerReference'}]}"
      ]
     },
     "metadata": {},
     "execution_count": 11
    }
   ],
   "metadata": {}
  },
  {
   "cell_type": "code",
   "execution_count": null,
   "source": [],
   "outputs": [],
   "metadata": {}
  }
 ],
 "metadata": {
  "orig_nbformat": 4,
  "language_info": {
   "name": "python",
   "version": "3.9.6",
   "mimetype": "text/x-python",
   "codemirror_mode": {
    "name": "ipython",
    "version": 3
   },
   "pygments_lexer": "ipython3",
   "nbconvert_exporter": "python",
   "file_extension": ".py"
  },
  "kernelspec": {
   "name": "python3",
   "display_name": "Python 3.9.6 64-bit"
  },
  "interpreter": {
   "hash": "907c7fe4cb4e511b42727ae84c4d85e9a0cc88b3b995d6fcfd67872026398923"
  }
 },
 "nbformat": 4,
 "nbformat_minor": 2
}