{
 "cells": [
  {
   "cell_type": "markdown",
   "source": [
    "# Veeam API and Python Part 6 - Veeam API and Pandas\r\n",
    "In this notebook we will go over how you can use Python's Pandas package to manipulate API responses\r\n",
    "\r\n",
    "You will need to install the following:\r\n",
    "\r\n",
    "    pip install pandas random-word\r\n",
    "\r\n",
    "First the imports:"
   ],
   "metadata": {}
  },
  {
   "cell_type": "code",
   "execution_count": 273,
   "source": [
    "from veeam_easy_connect import VeeamEasyConnect\r\n",
    "import requests\r\n",
    "import urllib3\r\n",
    "urllib3.disable_warnings()\r\n",
    "# new\r\n",
    "import pandas as pd"
   ],
   "outputs": [],
   "metadata": {}
  },
  {
   "cell_type": "markdown",
   "source": [
    "### What is Pandas?\r\n",
    "\r\n",
    "Pandas is a data analysis framework that makes manipulating large datasets very easy.\r\n",
    "\r\n",
    "[Pandas](https://pandas.pydata.org/)\r\n",
    "\r\n",
    "It uses Dataframes which sounds complicated but they are essentially virtual Excel style tables.\r\n",
    "\r\n",
    "|| col1 | col2 | col3 | col4 |\r\n",
    "|-|------|------|------|------|\r\n",
    "| row 1| data1 | data2 | data3 | data4 |\r\n",
    "| row 2 | data5 | data6 | data7 | data8 |\r\n",
    "\r\n",
    "You can use this structure with SQL like queries to filter, modify, and transform.\r\n",
    "\r\n",
    "We can create Dataframes from scratch doing following."
   ],
   "metadata": {}
  },
  {
   "cell_type": "code",
   "execution_count": 274,
   "source": [
    "# create some random words to use in the dataframe\r\n",
    "from random_word import RandomWords\r\n",
    "\r\n",
    "r = RandomWords()\r\n",
    "\r\n",
    "ran_words = r.get_random_words(hasDictionaryDef=\"true\")\r\n",
    "r_words = ran_words[:10]"
   ],
   "outputs": [],
   "metadata": {}
  },
  {
   "cell_type": "code",
   "execution_count": 275,
   "source": [
    "import random\r\n",
    "\r\n",
    "# creating some random data\r\n",
    "list1 = random.sample(range(1, 25), 10)\r\n",
    "list2 = random.sample(range(3, 50), 10)\r\n",
    "\r\n",
    "# create a dataframe\r\n",
    "dataframe = pd.DataFrame({\r\n",
    "    \"col1\" : list1,\r\n",
    "    \"col2\" : list2},\r\n",
    "    index=r_words\r\n",
    "    )"
   ],
   "outputs": [],
   "metadata": {}
  },
  {
   "cell_type": "code",
   "execution_count": 276,
   "source": [
    "# print the dataframe\r\n",
    "dataframe"
   ],
   "outputs": [
    {
     "output_type": "execute_result",
     "data": {
      "text/html": [
       "<div>\n",
       "<style scoped>\n",
       "    .dataframe tbody tr th:only-of-type {\n",
       "        vertical-align: middle;\n",
       "    }\n",
       "\n",
       "    .dataframe tbody tr th {\n",
       "        vertical-align: top;\n",
       "    }\n",
       "\n",
       "    .dataframe thead th {\n",
       "        text-align: right;\n",
       "    }\n",
       "</style>\n",
       "<table border=\"1\" class=\"dataframe\">\n",
       "  <thead>\n",
       "    <tr style=\"text-align: right;\">\n",
       "      <th></th>\n",
       "      <th>col1</th>\n",
       "      <th>col2</th>\n",
       "    </tr>\n",
       "  </thead>\n",
       "  <tbody>\n",
       "    <tr>\n",
       "      <th>racket-ground</th>\n",
       "      <td>13</td>\n",
       "      <td>9</td>\n",
       "    </tr>\n",
       "    <tr>\n",
       "      <th>destined</th>\n",
       "      <td>14</td>\n",
       "      <td>42</td>\n",
       "    </tr>\n",
       "    <tr>\n",
       "      <th>thatched</th>\n",
       "      <td>20</td>\n",
       "      <td>36</td>\n",
       "    </tr>\n",
       "    <tr>\n",
       "      <th>intermetallic</th>\n",
       "      <td>12</td>\n",
       "      <td>31</td>\n",
       "    </tr>\n",
       "    <tr>\n",
       "      <th>butcha</th>\n",
       "      <td>10</td>\n",
       "      <td>29</td>\n",
       "    </tr>\n",
       "    <tr>\n",
       "      <th>satins</th>\n",
       "      <td>11</td>\n",
       "      <td>46</td>\n",
       "    </tr>\n",
       "    <tr>\n",
       "      <th>bread-barge</th>\n",
       "      <td>23</td>\n",
       "      <td>40</td>\n",
       "    </tr>\n",
       "    <tr>\n",
       "      <th>pauline</th>\n",
       "      <td>22</td>\n",
       "      <td>44</td>\n",
       "    </tr>\n",
       "    <tr>\n",
       "      <th>unwearable</th>\n",
       "      <td>19</td>\n",
       "      <td>34</td>\n",
       "    </tr>\n",
       "    <tr>\n",
       "      <th>genericness</th>\n",
       "      <td>18</td>\n",
       "      <td>22</td>\n",
       "    </tr>\n",
       "  </tbody>\n",
       "</table>\n",
       "</div>"
      ],
      "text/plain": [
       "               col1  col2\n",
       "racket-ground    13     9\n",
       "destined         14    42\n",
       "thatched         20    36\n",
       "intermetallic    12    31\n",
       "butcha           10    29\n",
       "satins           11    46\n",
       "bread-barge      23    40\n",
       "pauline          22    44\n",
       "unwearable       19    34\n",
       "genericness      18    22"
      ]
     },
     "metadata": {},
     "execution_count": 276
    }
   ],
   "metadata": {}
  },
  {
   "cell_type": "markdown",
   "source": [
    "There are a LOT of ways you can work with the data, but for context here are a few examples.\r\n",
    "\r\n",
    "First filtering using iloc which syntax is as follows .iloc[start_row:end_row, start_col:end_col]\r\n",
    "\r\n",
    "Below you will see we are going for the 3rd > 5th row and all the columns"
   ],
   "metadata": {}
  },
  {
   "cell_type": "code",
   "execution_count": 277,
   "source": [
    "dataframe.iloc[3:5, :] "
   ],
   "outputs": [
    {
     "output_type": "execute_result",
     "data": {
      "text/html": [
       "<div>\n",
       "<style scoped>\n",
       "    .dataframe tbody tr th:only-of-type {\n",
       "        vertical-align: middle;\n",
       "    }\n",
       "\n",
       "    .dataframe tbody tr th {\n",
       "        vertical-align: top;\n",
       "    }\n",
       "\n",
       "    .dataframe thead th {\n",
       "        text-align: right;\n",
       "    }\n",
       "</style>\n",
       "<table border=\"1\" class=\"dataframe\">\n",
       "  <thead>\n",
       "    <tr style=\"text-align: right;\">\n",
       "      <th></th>\n",
       "      <th>col1</th>\n",
       "      <th>col2</th>\n",
       "    </tr>\n",
       "  </thead>\n",
       "  <tbody>\n",
       "    <tr>\n",
       "      <th>intermetallic</th>\n",
       "      <td>12</td>\n",
       "      <td>31</td>\n",
       "    </tr>\n",
       "    <tr>\n",
       "      <th>butcha</th>\n",
       "      <td>10</td>\n",
       "      <td>29</td>\n",
       "    </tr>\n",
       "  </tbody>\n",
       "</table>\n",
       "</div>"
      ],
      "text/plain": [
       "               col1  col2\n",
       "intermetallic    12    31\n",
       "butcha           10    29"
      ]
     },
     "metadata": {},
     "execution_count": 277
    }
   ],
   "metadata": {}
  },
  {
   "cell_type": "markdown",
   "source": [
    "Next we can do math on the data, assign it to a new dataframe then print"
   ],
   "metadata": {}
  },
  {
   "cell_type": "code",
   "execution_count": 278,
   "source": [
    "df2= dataframe * 100\r\n",
    "df2"
   ],
   "outputs": [
    {
     "output_type": "execute_result",
     "data": {
      "text/html": [
       "<div>\n",
       "<style scoped>\n",
       "    .dataframe tbody tr th:only-of-type {\n",
       "        vertical-align: middle;\n",
       "    }\n",
       "\n",
       "    .dataframe tbody tr th {\n",
       "        vertical-align: top;\n",
       "    }\n",
       "\n",
       "    .dataframe thead th {\n",
       "        text-align: right;\n",
       "    }\n",
       "</style>\n",
       "<table border=\"1\" class=\"dataframe\">\n",
       "  <thead>\n",
       "    <tr style=\"text-align: right;\">\n",
       "      <th></th>\n",
       "      <th>col1</th>\n",
       "      <th>col2</th>\n",
       "    </tr>\n",
       "  </thead>\n",
       "  <tbody>\n",
       "    <tr>\n",
       "      <th>racket-ground</th>\n",
       "      <td>1300</td>\n",
       "      <td>900</td>\n",
       "    </tr>\n",
       "    <tr>\n",
       "      <th>destined</th>\n",
       "      <td>1400</td>\n",
       "      <td>4200</td>\n",
       "    </tr>\n",
       "    <tr>\n",
       "      <th>thatched</th>\n",
       "      <td>2000</td>\n",
       "      <td>3600</td>\n",
       "    </tr>\n",
       "    <tr>\n",
       "      <th>intermetallic</th>\n",
       "      <td>1200</td>\n",
       "      <td>3100</td>\n",
       "    </tr>\n",
       "    <tr>\n",
       "      <th>butcha</th>\n",
       "      <td>1000</td>\n",
       "      <td>2900</td>\n",
       "    </tr>\n",
       "    <tr>\n",
       "      <th>satins</th>\n",
       "      <td>1100</td>\n",
       "      <td>4600</td>\n",
       "    </tr>\n",
       "    <tr>\n",
       "      <th>bread-barge</th>\n",
       "      <td>2300</td>\n",
       "      <td>4000</td>\n",
       "    </tr>\n",
       "    <tr>\n",
       "      <th>pauline</th>\n",
       "      <td>2200</td>\n",
       "      <td>4400</td>\n",
       "    </tr>\n",
       "    <tr>\n",
       "      <th>unwearable</th>\n",
       "      <td>1900</td>\n",
       "      <td>3400</td>\n",
       "    </tr>\n",
       "    <tr>\n",
       "      <th>genericness</th>\n",
       "      <td>1800</td>\n",
       "      <td>2200</td>\n",
       "    </tr>\n",
       "  </tbody>\n",
       "</table>\n",
       "</div>"
      ],
      "text/plain": [
       "               col1  col2\n",
       "racket-ground  1300   900\n",
       "destined       1400  4200\n",
       "thatched       2000  3600\n",
       "intermetallic  1200  3100\n",
       "butcha         1000  2900\n",
       "satins         1100  4600\n",
       "bread-barge    2300  4000\n",
       "pauline        2200  4400\n",
       "unwearable     1900  3400\n",
       "genericness    1800  2200"
      ]
     },
     "metadata": {},
     "execution_count": 278
    }
   ],
   "metadata": {}
  },
  {
   "cell_type": "code",
   "execution_count": 303,
   "source": [
    "# show values over 15\r\n",
    "dataframe[dataframe['col1'] > 15]"
   ],
   "outputs": [
    {
     "output_type": "execute_result",
     "data": {
      "text/html": [
       "<div>\n",
       "<style scoped>\n",
       "    .dataframe tbody tr th:only-of-type {\n",
       "        vertical-align: middle;\n",
       "    }\n",
       "\n",
       "    .dataframe tbody tr th {\n",
       "        vertical-align: top;\n",
       "    }\n",
       "\n",
       "    .dataframe thead th {\n",
       "        text-align: right;\n",
       "    }\n",
       "</style>\n",
       "<table border=\"1\" class=\"dataframe\">\n",
       "  <thead>\n",
       "    <tr style=\"text-align: right;\">\n",
       "      <th></th>\n",
       "      <th>col1</th>\n",
       "      <th>col2</th>\n",
       "    </tr>\n",
       "  </thead>\n",
       "  <tbody>\n",
       "    <tr>\n",
       "      <th>thatched</th>\n",
       "      <td>20</td>\n",
       "      <td>36</td>\n",
       "    </tr>\n",
       "    <tr>\n",
       "      <th>bread-barge</th>\n",
       "      <td>23</td>\n",
       "      <td>40</td>\n",
       "    </tr>\n",
       "    <tr>\n",
       "      <th>pauline</th>\n",
       "      <td>22</td>\n",
       "      <td>44</td>\n",
       "    </tr>\n",
       "    <tr>\n",
       "      <th>unwearable</th>\n",
       "      <td>19</td>\n",
       "      <td>34</td>\n",
       "    </tr>\n",
       "    <tr>\n",
       "      <th>genericness</th>\n",
       "      <td>18</td>\n",
       "      <td>22</td>\n",
       "    </tr>\n",
       "  </tbody>\n",
       "</table>\n",
       "</div>"
      ],
      "text/plain": [
       "             col1  col2\n",
       "thatched       20    36\n",
       "bread-barge    23    40\n",
       "pauline        22    44\n",
       "unwearable     19    34\n",
       "genericness    18    22"
      ]
     },
     "metadata": {},
     "execution_count": 303
    }
   ],
   "metadata": {}
  },
  {
   "cell_type": "markdown",
   "source": [
    "Create a new column that provides a cumulative sum value"
   ],
   "metadata": {}
  },
  {
   "cell_type": "code",
   "execution_count": 280,
   "source": [
    "df2['col3'] = df2['col2'].cumsum()\r\n",
    "df2"
   ],
   "outputs": [
    {
     "output_type": "execute_result",
     "data": {
      "text/html": [
       "<div>\n",
       "<style scoped>\n",
       "    .dataframe tbody tr th:only-of-type {\n",
       "        vertical-align: middle;\n",
       "    }\n",
       "\n",
       "    .dataframe tbody tr th {\n",
       "        vertical-align: top;\n",
       "    }\n",
       "\n",
       "    .dataframe thead th {\n",
       "        text-align: right;\n",
       "    }\n",
       "</style>\n",
       "<table border=\"1\" class=\"dataframe\">\n",
       "  <thead>\n",
       "    <tr style=\"text-align: right;\">\n",
       "      <th></th>\n",
       "      <th>col1</th>\n",
       "      <th>col2</th>\n",
       "      <th>col3</th>\n",
       "    </tr>\n",
       "  </thead>\n",
       "  <tbody>\n",
       "    <tr>\n",
       "      <th>racket-ground</th>\n",
       "      <td>1300</td>\n",
       "      <td>900</td>\n",
       "      <td>900</td>\n",
       "    </tr>\n",
       "    <tr>\n",
       "      <th>destined</th>\n",
       "      <td>1400</td>\n",
       "      <td>4200</td>\n",
       "      <td>5100</td>\n",
       "    </tr>\n",
       "    <tr>\n",
       "      <th>thatched</th>\n",
       "      <td>2000</td>\n",
       "      <td>3600</td>\n",
       "      <td>8700</td>\n",
       "    </tr>\n",
       "    <tr>\n",
       "      <th>intermetallic</th>\n",
       "      <td>1200</td>\n",
       "      <td>3100</td>\n",
       "      <td>11800</td>\n",
       "    </tr>\n",
       "    <tr>\n",
       "      <th>butcha</th>\n",
       "      <td>1000</td>\n",
       "      <td>2900</td>\n",
       "      <td>14700</td>\n",
       "    </tr>\n",
       "    <tr>\n",
       "      <th>satins</th>\n",
       "      <td>1100</td>\n",
       "      <td>4600</td>\n",
       "      <td>19300</td>\n",
       "    </tr>\n",
       "    <tr>\n",
       "      <th>bread-barge</th>\n",
       "      <td>2300</td>\n",
       "      <td>4000</td>\n",
       "      <td>23300</td>\n",
       "    </tr>\n",
       "    <tr>\n",
       "      <th>pauline</th>\n",
       "      <td>2200</td>\n",
       "      <td>4400</td>\n",
       "      <td>27700</td>\n",
       "    </tr>\n",
       "    <tr>\n",
       "      <th>unwearable</th>\n",
       "      <td>1900</td>\n",
       "      <td>3400</td>\n",
       "      <td>31100</td>\n",
       "    </tr>\n",
       "    <tr>\n",
       "      <th>genericness</th>\n",
       "      <td>1800</td>\n",
       "      <td>2200</td>\n",
       "      <td>33300</td>\n",
       "    </tr>\n",
       "  </tbody>\n",
       "</table>\n",
       "</div>"
      ],
      "text/plain": [
       "               col1  col2   col3\n",
       "racket-ground  1300   900    900\n",
       "destined       1400  4200   5100\n",
       "thatched       2000  3600   8700\n",
       "intermetallic  1200  3100  11800\n",
       "butcha         1000  2900  14700\n",
       "satins         1100  4600  19300\n",
       "bread-barge    2300  4000  23300\n",
       "pauline        2200  4400  27700\n",
       "unwearable     1900  3400  31100\n",
       "genericness    1800  2200  33300"
      ]
     },
     "metadata": {},
     "execution_count": 280
    }
   ],
   "metadata": {}
  },
  {
   "cell_type": "code",
   "execution_count": 304,
   "source": [
    "df2.to_excel(\"df_data.xlsx\")"
   ],
   "outputs": [],
   "metadata": {}
  },
  {
   "cell_type": "markdown",
   "source": [
    "## Next to apply this to the Veeam API\r\n",
    "\r\n",
    "Next log into the Enterprise Manager API using Veeam Easy Connect"
   ],
   "metadata": {}
  },
  {
   "cell_type": "code",
   "execution_count": 281,
   "source": [
    "veeam_ec = VeeamEasyConnect()\r\n",
    "header = veeam_ec.em_login()"
   ],
   "outputs": [],
   "metadata": {}
  },
  {
   "cell_type": "markdown",
   "source": [
    "Create the get function"
   ],
   "metadata": {}
  },
  {
   "cell_type": "code",
   "execution_count": 282,
   "source": [
    "def get_data(url: str, headers: dict) -> dict:\r\n",
    "    res = requests.get(url, headers=headers, verify=False)\r\n",
    "    res.raise_for_status() # will raise an error if we don't get a 2** status code\r\n",
    "    res_data = res.json()\r\n",
    "    return res_data"
   ],
   "outputs": [],
   "metadata": {}
  },
  {
   "cell_type": "markdown",
   "source": [
    "Grab an endpoint from the Veeam Documentation, in this case we will use the **/query?type=BackupFile** endpoint.\r\n",
    "\r\n",
    "[/querySvc backupFile - Help Guide](https://helpcenter.veeam.com/docs/backup/em_rest/get_query_backupfile.html?ver=110)\r\n",
    "\r\n",
    "Note that the &format=Entities means we will get back all the backup file information in a single call."
   ],
   "metadata": {}
  },
  {
   "cell_type": "code",
   "execution_count": 283,
   "source": [
    "address = input(\"Enter Server Address: \")\r\n",
    "url = f\"https://{address}:9398/api/query?type=BackupFile&format=Entities\""
   ],
   "outputs": [],
   "metadata": {}
  },
  {
   "cell_type": "markdown",
   "source": [
    "Then make a request to get the data"
   ],
   "metadata": {}
  },
  {
   "cell_type": "code",
   "execution_count": 284,
   "source": [
    "bu_data = get_data(url, header)"
   ],
   "outputs": [],
   "metadata": {}
  },
  {
   "cell_type": "markdown",
   "source": [
    "## Start applying this to the Veeam API\r\n",
    "\r\n",
    "First we will filter out the data that we want from the backup file response"
   ],
   "metadata": {}
  },
  {
   "cell_type": "code",
   "execution_count": 285,
   "source": [
    "bu_data.keys()"
   ],
   "outputs": [
    {
     "output_type": "execute_result",
     "data": {
      "text/plain": [
       "dict_keys(['Refs', 'Entities', 'Resources', 'Links', 'PagingInfo'])"
      ]
     },
     "metadata": {},
     "execution_count": 285
    }
   ],
   "metadata": {}
  },
  {
   "cell_type": "code",
   "execution_count": 286,
   "source": [
    "bu_data['Entities'].keys()"
   ],
   "outputs": [
    {
     "output_type": "execute_result",
     "data": {
      "text/plain": [
       "dict_keys(['Jobs', 'FailoverPlans', 'Backups', 'Replicas', 'Repositories', 'RestorePoints', 'VmRestorePoints', 'VAppRestorePoints', 'VmReplicaPoints', 'BackupJobSessions', 'ReplicaJobSessions', 'ReplicaTaskSessions', 'RestoreSessions', 'HierarchyRoots', 'BackupTaskSessions', 'BackupServers', 'ManagedServers', 'EnterpiseRoles', 'EnterpiseAccounts', 'WanAccelerators', 'CloudGateways', 'CloudTenants', 'CloudReplicas', 'VCloudOrganizationConfigs', 'BackupFiles', 'VSphereSelfServiceConfigs', 'CloudPublicIps', 'CloudHardwarePlans', 'CloudVmReplicaPoints', 'AgentRestorePoints', 'AgentBackupJob', 'CloudGatewayPools', 'CloudFailoverPlans', 'ExternalRepositories', 'VlanConfigurations', 'CloudFailoverSessions', 'AgentProtectionGroups', 'DiscoveredComputers', 'FileServers', 'NASJobs', 'CdpReplicas', 'CdpReplicaVms', 'CdpPolicies', 'CdpReplicaSessions', 'CdpReplicaTaskSessions', 'VAppReplicaPoints'])"
      ]
     },
     "metadata": {},
     "execution_count": 286
    }
   ],
   "metadata": {}
  },
  {
   "cell_type": "markdown",
   "source": [
    "We will grab the key capacity data from the endpoint"
   ],
   "metadata": {}
  },
  {
   "cell_type": "code",
   "execution_count": 287,
   "source": [
    "bu_data['Entities']['BackupFiles']['BackupFiles'][0].keys()"
   ],
   "outputs": [
    {
     "output_type": "execute_result",
     "data": {
      "text/plain": [
       "dict_keys(['FilePath', 'BackupSize', 'DataSize', 'DeduplicationRatio', 'CompressRatio', 'CreationTimeUtc', 'FileType', 'Name', 'UID', 'Links', 'Href', 'Type'])"
      ]
     },
     "metadata": {},
     "execution_count": 287
    }
   ],
   "metadata": {}
  },
  {
   "cell_type": "code",
   "execution_count": 288,
   "source": [
    "filter_bu = []\r\n",
    "# creating a new variable for just the backup files\r\n",
    "bu_data2 = bu_data['Entities']['BackupFiles']['BackupFiles']\r\n",
    "\r\n",
    "for i in bu_data2:\r\n",
    "    data = {\r\n",
    "        \"BackupSize\": i[\"BackupSize\"],\r\n",
    "        \"DataSize\": i[\"DataSize\"],\r\n",
    "        \"DeduplicationRatio\": i[\"DeduplicationRatio\"],\r\n",
    "        \"CompressRatio\": i[\"CompressRatio\"],\r\n",
    "        \"CreationTimeUtc\": i[\"CreationTimeUtc\"],\r\n",
    "        \"FileType\": i[\"FileType\"],\r\n",
    "        \"jobName\": i[\"Links\"][0][\"Name\"]\r\n",
    "    }\r\n",
    "    filter_bu.append(data)"
   ],
   "outputs": [],
   "metadata": {}
  },
  {
   "cell_type": "markdown",
   "source": [
    "The data we have now is 'flat' in that we have don't have nested dictionaries or lists.\r\n",
    "\r\n",
    "Below we can see a single entry in the list we created"
   ],
   "metadata": {}
  },
  {
   "cell_type": "code",
   "execution_count": 289,
   "source": [
    "filter_bu[0]"
   ],
   "outputs": [
    {
     "output_type": "execute_result",
     "data": {
      "text/plain": [
       "{'BackupSize': 40292352,\n",
       " 'DataSize': 219798776,\n",
       " 'DeduplicationRatio': 1.0,\n",
       " 'CompressRatio': 5.56,\n",
       " 'CreationTimeUtc': '2021-09-03T18:00:18Z',\n",
       " 'FileType': 'vib',\n",
       " 'jobName': 'solaris solaris_job'}"
      ]
     },
     "metadata": {},
     "execution_count": 289
    }
   ],
   "metadata": {}
  },
  {
   "cell_type": "markdown",
   "source": [
    "We are going now create a Dataframe from this data. You will see that this is very easy to do."
   ],
   "metadata": {}
  },
  {
   "cell_type": "code",
   "execution_count": 290,
   "source": [
    "bu_df = pd.DataFrame.from_dict(filter_bu)"
   ],
   "outputs": [],
   "metadata": {}
  },
  {
   "cell_type": "code",
   "execution_count": 291,
   "source": [
    "bu_df.head()"
   ],
   "outputs": [
    {
     "output_type": "execute_result",
     "data": {
      "text/html": [
       "<div>\n",
       "<style scoped>\n",
       "    .dataframe tbody tr th:only-of-type {\n",
       "        vertical-align: middle;\n",
       "    }\n",
       "\n",
       "    .dataframe tbody tr th {\n",
       "        vertical-align: top;\n",
       "    }\n",
       "\n",
       "    .dataframe thead th {\n",
       "        text-align: right;\n",
       "    }\n",
       "</style>\n",
       "<table border=\"1\" class=\"dataframe\">\n",
       "  <thead>\n",
       "    <tr style=\"text-align: right;\">\n",
       "      <th></th>\n",
       "      <th>BackupSize</th>\n",
       "      <th>DataSize</th>\n",
       "      <th>DeduplicationRatio</th>\n",
       "      <th>CompressRatio</th>\n",
       "      <th>CreationTimeUtc</th>\n",
       "      <th>FileType</th>\n",
       "      <th>jobName</th>\n",
       "    </tr>\n",
       "  </thead>\n",
       "  <tbody>\n",
       "    <tr>\n",
       "      <th>0</th>\n",
       "      <td>40292352</td>\n",
       "      <td>219798776</td>\n",
       "      <td>1.00</td>\n",
       "      <td>5.56</td>\n",
       "      <td>2021-09-03T18:00:18Z</td>\n",
       "      <td>vib</td>\n",
       "      <td>solaris solaris_job</td>\n",
       "    </tr>\n",
       "    <tr>\n",
       "      <th>1</th>\n",
       "      <td>9074769920</td>\n",
       "      <td>43589968582</td>\n",
       "      <td>3.17</td>\n",
       "      <td>1.52</td>\n",
       "      <td>2021-06-26T17:00:26.123Z</td>\n",
       "      <td>vbk</td>\n",
       "      <td>Agent to AWS - dc1backupvm3.testlab.net</td>\n",
       "    </tr>\n",
       "    <tr>\n",
       "      <th>2</th>\n",
       "      <td>20492288</td>\n",
       "      <td>22020096</td>\n",
       "      <td>1.00</td>\n",
       "      <td>1.59</td>\n",
       "      <td>2021-04-15T15:37:46Z</td>\n",
       "      <td>vib</td>\n",
       "      <td>Mac Backup - Edwards-MacBook-Air.local</td>\n",
       "    </tr>\n",
       "    <tr>\n",
       "      <th>3</th>\n",
       "      <td>778895360</td>\n",
       "      <td>8589979960</td>\n",
       "      <td>4.96</td>\n",
       "      <td>2.22</td>\n",
       "      <td>2021-08-29T21:00:35.817Z</td>\n",
       "      <td>vbk</td>\n",
       "      <td>PerJob</td>\n",
       "    </tr>\n",
       "    <tr>\n",
       "      <th>4</th>\n",
       "      <td>370257920</td>\n",
       "      <td>838892876</td>\n",
       "      <td>1.00</td>\n",
       "      <td>2.27</td>\n",
       "      <td>2021-06-27T16:00:37.733Z</td>\n",
       "      <td>vib</td>\n",
       "      <td>Agent Backup Job 1 - dc1backupvm3.testlab.net</td>\n",
       "    </tr>\n",
       "  </tbody>\n",
       "</table>\n",
       "</div>"
      ],
      "text/plain": [
       "   BackupSize     DataSize  DeduplicationRatio  CompressRatio  \\\n",
       "0    40292352    219798776                1.00           5.56   \n",
       "1  9074769920  43589968582                3.17           1.52   \n",
       "2    20492288     22020096                1.00           1.59   \n",
       "3   778895360   8589979960                4.96           2.22   \n",
       "4   370257920    838892876                1.00           2.27   \n",
       "\n",
       "            CreationTimeUtc FileType  \\\n",
       "0      2021-09-03T18:00:18Z      vib   \n",
       "1  2021-06-26T17:00:26.123Z      vbk   \n",
       "2      2021-04-15T15:37:46Z      vib   \n",
       "3  2021-08-29T21:00:35.817Z      vbk   \n",
       "4  2021-06-27T16:00:37.733Z      vib   \n",
       "\n",
       "                                         jobName  \n",
       "0                            solaris solaris_job  \n",
       "1        Agent to AWS - dc1backupvm3.testlab.net  \n",
       "2         Mac Backup - Edwards-MacBook-Air.local  \n",
       "3                                         PerJob  \n",
       "4  Agent Backup Job 1 - dc1backupvm3.testlab.net  "
      ]
     },
     "metadata": {},
     "execution_count": 291
    }
   ],
   "metadata": {}
  },
  {
   "cell_type": "markdown",
   "source": [
    "The BackupSize and DataSize values are in bytes so we need to change these to something more manageable."
   ],
   "metadata": {}
  },
  {
   "cell_type": "code",
   "execution_count": 292,
   "source": [
    "bu_df['BackupSizeGB'] = bu_df['BackupSize'] / 1024**3\r\n",
    "bu_df['DataSizeGB'] = bu_df['DataSize'] / 1024**3"
   ],
   "outputs": [],
   "metadata": {}
  },
  {
   "cell_type": "code",
   "execution_count": 293,
   "source": [
    "bu_df.head()\r\n",
    "# .head() shows just the first few items, you can also use .tail() "
   ],
   "outputs": [
    {
     "output_type": "execute_result",
     "data": {
      "text/html": [
       "<div>\n",
       "<style scoped>\n",
       "    .dataframe tbody tr th:only-of-type {\n",
       "        vertical-align: middle;\n",
       "    }\n",
       "\n",
       "    .dataframe tbody tr th {\n",
       "        vertical-align: top;\n",
       "    }\n",
       "\n",
       "    .dataframe thead th {\n",
       "        text-align: right;\n",
       "    }\n",
       "</style>\n",
       "<table border=\"1\" class=\"dataframe\">\n",
       "  <thead>\n",
       "    <tr style=\"text-align: right;\">\n",
       "      <th></th>\n",
       "      <th>BackupSize</th>\n",
       "      <th>DataSize</th>\n",
       "      <th>DeduplicationRatio</th>\n",
       "      <th>CompressRatio</th>\n",
       "      <th>CreationTimeUtc</th>\n",
       "      <th>FileType</th>\n",
       "      <th>jobName</th>\n",
       "      <th>BackupSizeGB</th>\n",
       "      <th>DataSizeGB</th>\n",
       "    </tr>\n",
       "  </thead>\n",
       "  <tbody>\n",
       "    <tr>\n",
       "      <th>0</th>\n",
       "      <td>40292352</td>\n",
       "      <td>219798776</td>\n",
       "      <td>1.00</td>\n",
       "      <td>5.56</td>\n",
       "      <td>2021-09-03T18:00:18Z</td>\n",
       "      <td>vib</td>\n",
       "      <td>solaris solaris_job</td>\n",
       "      <td>0.037525</td>\n",
       "      <td>0.204704</td>\n",
       "    </tr>\n",
       "    <tr>\n",
       "      <th>1</th>\n",
       "      <td>9074769920</td>\n",
       "      <td>43589968582</td>\n",
       "      <td>3.17</td>\n",
       "      <td>1.52</td>\n",
       "      <td>2021-06-26T17:00:26.123Z</td>\n",
       "      <td>vbk</td>\n",
       "      <td>Agent to AWS - dc1backupvm3.testlab.net</td>\n",
       "      <td>8.451538</td>\n",
       "      <td>40.596322</td>\n",
       "    </tr>\n",
       "    <tr>\n",
       "      <th>2</th>\n",
       "      <td>20492288</td>\n",
       "      <td>22020096</td>\n",
       "      <td>1.00</td>\n",
       "      <td>1.59</td>\n",
       "      <td>2021-04-15T15:37:46Z</td>\n",
       "      <td>vib</td>\n",
       "      <td>Mac Backup - Edwards-MacBook-Air.local</td>\n",
       "      <td>0.019085</td>\n",
       "      <td>0.020508</td>\n",
       "    </tr>\n",
       "    <tr>\n",
       "      <th>3</th>\n",
       "      <td>778895360</td>\n",
       "      <td>8589979960</td>\n",
       "      <td>4.96</td>\n",
       "      <td>2.22</td>\n",
       "      <td>2021-08-29T21:00:35.817Z</td>\n",
       "      <td>vbk</td>\n",
       "      <td>PerJob</td>\n",
       "      <td>0.725403</td>\n",
       "      <td>8.000042</td>\n",
       "    </tr>\n",
       "    <tr>\n",
       "      <th>4</th>\n",
       "      <td>370257920</td>\n",
       "      <td>838892876</td>\n",
       "      <td>1.00</td>\n",
       "      <td>2.27</td>\n",
       "      <td>2021-06-27T16:00:37.733Z</td>\n",
       "      <td>vib</td>\n",
       "      <td>Agent Backup Job 1 - dc1backupvm3.testlab.net</td>\n",
       "      <td>0.344830</td>\n",
       "      <td>0.781280</td>\n",
       "    </tr>\n",
       "  </tbody>\n",
       "</table>\n",
       "</div>"
      ],
      "text/plain": [
       "   BackupSize     DataSize  DeduplicationRatio  CompressRatio  \\\n",
       "0    40292352    219798776                1.00           5.56   \n",
       "1  9074769920  43589968582                3.17           1.52   \n",
       "2    20492288     22020096                1.00           1.59   \n",
       "3   778895360   8589979960                4.96           2.22   \n",
       "4   370257920    838892876                1.00           2.27   \n",
       "\n",
       "            CreationTimeUtc FileType  \\\n",
       "0      2021-09-03T18:00:18Z      vib   \n",
       "1  2021-06-26T17:00:26.123Z      vbk   \n",
       "2      2021-04-15T15:37:46Z      vib   \n",
       "3  2021-08-29T21:00:35.817Z      vbk   \n",
       "4  2021-06-27T16:00:37.733Z      vib   \n",
       "\n",
       "                                         jobName  BackupSizeGB  DataSizeGB  \n",
       "0                            solaris solaris_job      0.037525    0.204704  \n",
       "1        Agent to AWS - dc1backupvm3.testlab.net      8.451538   40.596322  \n",
       "2         Mac Backup - Edwards-MacBook-Air.local      0.019085    0.020508  \n",
       "3                                         PerJob      0.725403    8.000042  \n",
       "4  Agent Backup Job 1 - dc1backupvm3.testlab.net      0.344830    0.781280  "
      ]
     },
     "metadata": {},
     "execution_count": 293
    }
   ],
   "metadata": {}
  },
  {
   "cell_type": "markdown",
   "source": [
    "You can drop columns with the .drop method [link](https://pandas.pydata.org/docs/reference/api/pandas.DataFrame.drop.html?highlight=drop#pandas.DataFrame.drop)\r\n",
    "\r\n",
    "We can now do a quick bit of analysis, let's filter out the vib and calculate the average Backup Size"
   ],
   "metadata": {}
  },
  {
   "cell_type": "code",
   "execution_count": 294,
   "source": [
    "bu_vib = bu_df[bu_df['FileType'] == \"vib\"].copy()"
   ],
   "outputs": [],
   "metadata": {}
  },
  {
   "cell_type": "code",
   "execution_count": 295,
   "source": [
    "bu_vib['DataSizeGB'].mean()"
   ],
   "outputs": [
    {
     "output_type": "execute_result",
     "data": {
      "text/plain": [
       "1.723814519910285"
      ]
     },
     "metadata": {},
     "execution_count": 295
    }
   ],
   "metadata": {}
  },
  {
   "cell_type": "code",
   "execution_count": 305,
   "source": [
    "bu_vib['DataSizeGB'].max()"
   ],
   "outputs": [
    {
     "output_type": "execute_result",
     "data": {
      "text/plain": [
       "13.80764176696539"
      ]
     },
     "metadata": {},
     "execution_count": 305
    }
   ],
   "metadata": {}
  },
  {
   "cell_type": "markdown",
   "source": [
    "Next we can have a look at the average compression per Job\r\n",
    "\r\n",
    "Check out the docs on [.loc](https://pandas.pydata.org/docs/reference/api/pandas.DataFrame.loc.html)"
   ],
   "metadata": {}
  },
  {
   "cell_type": "code",
   "execution_count": 297,
   "source": [
    "# first change the ratio to a percentage\r\n",
    "bu_vib.loc[:, \"CompressPercentage\"] = bu_vib[\"CompressRatio\"] * 100"
   ],
   "outputs": [],
   "metadata": {}
  },
  {
   "cell_type": "code",
   "execution_count": 298,
   "source": [
    "bu_vib.groupby(\"jobName\")[['CompressRatio', 'CompressPercentage']].mean().round(2).sort_values(\"CompressRatio\", ascending=False)"
   ],
   "outputs": [
    {
     "output_type": "execute_result",
     "data": {
      "text/html": [
       "<div>\n",
       "<style scoped>\n",
       "    .dataframe tbody tr th:only-of-type {\n",
       "        vertical-align: middle;\n",
       "    }\n",
       "\n",
       "    .dataframe tbody tr th {\n",
       "        vertical-align: top;\n",
       "    }\n",
       "\n",
       "    .dataframe thead th {\n",
       "        text-align: right;\n",
       "    }\n",
       "</style>\n",
       "<table border=\"1\" class=\"dataframe\">\n",
       "  <thead>\n",
       "    <tr style=\"text-align: right;\">\n",
       "      <th></th>\n",
       "      <th>CompressRatio</th>\n",
       "      <th>CompressPercentage</th>\n",
       "    </tr>\n",
       "    <tr>\n",
       "      <th>jobName</th>\n",
       "      <th></th>\n",
       "      <th></th>\n",
       "    </tr>\n",
       "  </thead>\n",
       "  <tbody>\n",
       "    <tr>\n",
       "      <th>Mixed SOBR</th>\n",
       "      <td>7.14</td>\n",
       "      <td>714.00</td>\n",
       "    </tr>\n",
       "    <tr>\n",
       "      <th>k8s</th>\n",
       "      <td>5.75</td>\n",
       "      <td>574.70</td>\n",
       "    </tr>\n",
       "    <tr>\n",
       "      <th>solaris solaris_job</th>\n",
       "      <td>5.56</td>\n",
       "      <td>556.00</td>\n",
       "    </tr>\n",
       "    <tr>\n",
       "      <th>PerJob</th>\n",
       "      <td>5.44</td>\n",
       "      <td>543.71</td>\n",
       "    </tr>\n",
       "    <tr>\n",
       "      <th>SQL1</th>\n",
       "      <td>3.01</td>\n",
       "      <td>300.57</td>\n",
       "    </tr>\n",
       "    <tr>\n",
       "      <th>Agent Backup Job 1 - dc1backupvm3.testlab.net</th>\n",
       "      <td>2.38</td>\n",
       "      <td>237.86</td>\n",
       "    </tr>\n",
       "    <tr>\n",
       "      <th>Agent to AWS - dc1backupvm3.testlab.net</th>\n",
       "      <td>2.21</td>\n",
       "      <td>221.43</td>\n",
       "    </tr>\n",
       "    <tr>\n",
       "      <th>Tiny NFS vm</th>\n",
       "      <td>2.17</td>\n",
       "      <td>217.00</td>\n",
       "    </tr>\n",
       "    <tr>\n",
       "      <th>Mac Backup - Edwards-MacBook-Air.local</th>\n",
       "      <td>1.67</td>\n",
       "      <td>167.17</td>\n",
       "    </tr>\n",
       "  </tbody>\n",
       "</table>\n",
       "</div>"
      ],
      "text/plain": [
       "                                               CompressRatio  \\\n",
       "jobName                                                        \n",
       "Mixed SOBR                                              7.14   \n",
       "k8s                                                     5.75   \n",
       "solaris solaris_job                                     5.56   \n",
       "PerJob                                                  5.44   \n",
       "SQL1                                                    3.01   \n",
       "Agent Backup Job 1 - dc1backupvm3.testlab.net           2.38   \n",
       "Agent to AWS - dc1backupvm3.testlab.net                 2.21   \n",
       "Tiny NFS vm                                             2.17   \n",
       "Mac Backup - Edwards-MacBook-Air.local                  1.67   \n",
       "\n",
       "                                               CompressPercentage  \n",
       "jobName                                                            \n",
       "Mixed SOBR                                                 714.00  \n",
       "k8s                                                        574.70  \n",
       "solaris solaris_job                                        556.00  \n",
       "PerJob                                                     543.71  \n",
       "SQL1                                                       300.57  \n",
       "Agent Backup Job 1 - dc1backupvm3.testlab.net              237.86  \n",
       "Agent to AWS - dc1backupvm3.testlab.net                    221.43  \n",
       "Tiny NFS vm                                                217.00  \n",
       "Mac Backup - Edwards-MacBook-Air.local                     167.17  "
      ]
     },
     "metadata": {},
     "execution_count": 298
    }
   ],
   "metadata": {}
  }
 ],
 "metadata": {
  "orig_nbformat": 4,
  "language_info": {
   "name": "python",
   "version": "3.9.6",
   "mimetype": "text/x-python",
   "codemirror_mode": {
    "name": "ipython",
    "version": 3
   },
   "pygments_lexer": "ipython3",
   "nbconvert_exporter": "python",
   "file_extension": ".py"
  },
  "kernelspec": {
   "name": "python3",
   "display_name": "Python 3.9.6 64-bit"
  },
  "interpreter": {
   "hash": "907c7fe4cb4e511b42727ae84c4d85e9a0cc88b3b995d6fcfd67872026398923"
  }
 },
 "nbformat": 4,
 "nbformat_minor": 2
}