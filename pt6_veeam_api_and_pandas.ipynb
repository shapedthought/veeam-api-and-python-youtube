{
 "cells": [
  {
   "cell_type": "markdown",
   "metadata": {},
   "source": [
    "# Veeam API and Python Part 6 - Veeam API and Pandas\n",
    "\n",
    "## Updated with the new version of Veeam Easy Connect\n",
    "\n",
    "In this notebook we will go over how you can use Python's Pandas package to manipulate API responses\n",
    "\n",
    "You will need to install the following:\n",
    "\n",
    "    pip install pandas random-word\n",
    "\n",
    "First the imports:"
   ]
  },
  {
   "cell_type": "code",
   "execution_count": 273,
   "metadata": {},
   "outputs": [],
   "source": [
    "from veeam_easy_connect import VeeamEasyConnect\n",
    "import getpass\n",
    "import pandas as pd"
   ]
  },
  {
   "cell_type": "markdown",
   "metadata": {},
   "source": [
    "### What is Pandas?\n",
    "\n",
    "Pandas is a data analysis framework that makes manipulating large datasets very easy.\n",
    "\n",
    "[Pandas](https://pandas.pydata.org/)\n",
    "\n",
    "It uses Dataframes which sounds complicated but they are essentially virtual Excel style tables.\n",
    "\n",
    "|| col1 | col2 | col3 | col4 |\n",
    "|-|------|------|------|------|\n",
    "| row 1| data1 | data2 | data3 | data4 |\n",
    "| row 2 | data5 | data6 | data7 | data8 |\n",
    "\n",
    "You can use this structure with SQL like queries to filter, modify, and transform.\n",
    "\n",
    "We can create Dataframes from scratch doing following."
   ]
  },
  {
   "cell_type": "code",
   "execution_count": 274,
   "metadata": {},
   "outputs": [],
   "source": [
    "# create some random words to use in the dataframe\n",
    "from random_word import RandomWords\n",
    "\n",
    "r = RandomWords()\n",
    "\n",
    "ran_words = r.get_random_words(hasDictionaryDef=\"true\")\n",
    "r_words = ran_words[:10]"
   ]
  },
  {
   "cell_type": "code",
   "execution_count": 275,
   "metadata": {},
   "outputs": [],
   "source": [
    "import random\n",
    "\n",
    "# creating some random data\n",
    "list1 = random.sample(range(1, 25), 10)\n",
    "list2 = random.sample(range(3, 50), 10)\n",
    "\n",
    "# create a dataframe\n",
    "dataframe = pd.DataFrame({\n",
    "    \"col1\" : list1,\n",
    "    \"col2\" : list2},\n",
    "    index=r_words\n",
    "    )"
   ]
  },
  {
   "cell_type": "code",
   "execution_count": 276,
   "metadata": {},
   "outputs": [
    {
     "data": {
      "text/html": [
       "<div>\n",
       "<style scoped>\n",
       "    .dataframe tbody tr th:only-of-type {\n",
       "        vertical-align: middle;\n",
       "    }\n",
       "\n",
       "    .dataframe tbody tr th {\n",
       "        vertical-align: top;\n",
       "    }\n",
       "\n",
       "    .dataframe thead th {\n",
       "        text-align: right;\n",
       "    }\n",
       "</style>\n",
       "<table border=\"1\" class=\"dataframe\">\n",
       "  <thead>\n",
       "    <tr style=\"text-align: right;\">\n",
       "      <th></th>\n",
       "      <th>col1</th>\n",
       "      <th>col2</th>\n",
       "    </tr>\n",
       "  </thead>\n",
       "  <tbody>\n",
       "    <tr>\n",
       "      <th>racket-ground</th>\n",
       "      <td>13</td>\n",
       "      <td>9</td>\n",
       "    </tr>\n",
       "    <tr>\n",
       "      <th>destined</th>\n",
       "      <td>14</td>\n",
       "      <td>42</td>\n",
       "    </tr>\n",
       "    <tr>\n",
       "      <th>thatched</th>\n",
       "      <td>20</td>\n",
       "      <td>36</td>\n",
       "    </tr>\n",
       "    <tr>\n",
       "      <th>intermetallic</th>\n",
       "      <td>12</td>\n",
       "      <td>31</td>\n",
       "    </tr>\n",
       "    <tr>\n",
       "      <th>butcha</th>\n",
       "      <td>10</td>\n",
       "      <td>29</td>\n",
       "    </tr>\n",
       "    <tr>\n",
       "      <th>satins</th>\n",
       "      <td>11</td>\n",
       "      <td>46</td>\n",
       "    </tr>\n",
       "    <tr>\n",
       "      <th>bread-barge</th>\n",
       "      <td>23</td>\n",
       "      <td>40</td>\n",
       "    </tr>\n",
       "    <tr>\n",
       "      <th>pauline</th>\n",
       "      <td>22</td>\n",
       "      <td>44</td>\n",
       "    </tr>\n",
       "    <tr>\n",
       "      <th>unwearable</th>\n",
       "      <td>19</td>\n",
       "      <td>34</td>\n",
       "    </tr>\n",
       "    <tr>\n",
       "      <th>genericness</th>\n",
       "      <td>18</td>\n",
       "      <td>22</td>\n",
       "    </tr>\n",
       "  </tbody>\n",
       "</table>\n",
       "</div>"
      ],
      "text/plain": [
       "               col1  col2\n",
       "racket-ground    13     9\n",
       "destined         14    42\n",
       "thatched         20    36\n",
       "intermetallic    12    31\n",
       "butcha           10    29\n",
       "satins           11    46\n",
       "bread-barge      23    40\n",
       "pauline          22    44\n",
       "unwearable       19    34\n",
       "genericness      18    22"
      ]
     },
     "execution_count": 276,
     "metadata": {},
     "output_type": "execute_result"
    }
   ],
   "source": [
    "# print the dataframe\n",
    "dataframe"
   ]
  },
  {
   "cell_type": "markdown",
   "metadata": {},
   "source": [
    "There are a LOT of ways you can work with the data, but for context here are a few examples.\n",
    "\n",
    "First filtering using iloc which syntax is as follows .iloc[start_row:end_row, start_col:end_col]\n",
    "\n",
    "Below you will see we are going for the 3rd > 5th row and all the columns"
   ]
  },
  {
   "cell_type": "code",
   "execution_count": 277,
   "metadata": {},
   "outputs": [
    {
     "data": {
      "text/html": [
       "<div>\n",
       "<style scoped>\n",
       "    .dataframe tbody tr th:only-of-type {\n",
       "        vertical-align: middle;\n",
       "    }\n",
       "\n",
       "    .dataframe tbody tr th {\n",
       "        vertical-align: top;\n",
       "    }\n",
       "\n",
       "    .dataframe thead th {\n",
       "        text-align: right;\n",
       "    }\n",
       "</style>\n",
       "<table border=\"1\" class=\"dataframe\">\n",
       "  <thead>\n",
       "    <tr style=\"text-align: right;\">\n",
       "      <th></th>\n",
       "      <th>col1</th>\n",
       "      <th>col2</th>\n",
       "    </tr>\n",
       "  </thead>\n",
       "  <tbody>\n",
       "    <tr>\n",
       "      <th>intermetallic</th>\n",
       "      <td>12</td>\n",
       "      <td>31</td>\n",
       "    </tr>\n",
       "    <tr>\n",
       "      <th>butcha</th>\n",
       "      <td>10</td>\n",
       "      <td>29</td>\n",
       "    </tr>\n",
       "  </tbody>\n",
       "</table>\n",
       "</div>"
      ],
      "text/plain": [
       "               col1  col2\n",
       "intermetallic    12    31\n",
       "butcha           10    29"
      ]
     },
     "execution_count": 277,
     "metadata": {},
     "output_type": "execute_result"
    }
   ],
   "source": [
    "dataframe.iloc[3:5, :] "
   ]
  },
  {
   "cell_type": "markdown",
   "metadata": {},
   "source": [
    "Next we can do math on the data, assign it to a new dataframe then print"
   ]
  },
  {
   "cell_type": "code",
   "execution_count": 278,
   "metadata": {},
   "outputs": [
    {
     "data": {
      "text/html": [
       "<div>\n",
       "<style scoped>\n",
       "    .dataframe tbody tr th:only-of-type {\n",
       "        vertical-align: middle;\n",
       "    }\n",
       "\n",
       "    .dataframe tbody tr th {\n",
       "        vertical-align: top;\n",
       "    }\n",
       "\n",
       "    .dataframe thead th {\n",
       "        text-align: right;\n",
       "    }\n",
       "</style>\n",
       "<table border=\"1\" class=\"dataframe\">\n",
       "  <thead>\n",
       "    <tr style=\"text-align: right;\">\n",
       "      <th></th>\n",
       "      <th>col1</th>\n",
       "      <th>col2</th>\n",
       "    </tr>\n",
       "  </thead>\n",
       "  <tbody>\n",
       "    <tr>\n",
       "      <th>racket-ground</th>\n",
       "      <td>1300</td>\n",
       "      <td>900</td>\n",
       "    </tr>\n",
       "    <tr>\n",
       "      <th>destined</th>\n",
       "      <td>1400</td>\n",
       "      <td>4200</td>\n",
       "    </tr>\n",
       "    <tr>\n",
       "      <th>thatched</th>\n",
       "      <td>2000</td>\n",
       "      <td>3600</td>\n",
       "    </tr>\n",
       "    <tr>\n",
       "      <th>intermetallic</th>\n",
       "      <td>1200</td>\n",
       "      <td>3100</td>\n",
       "    </tr>\n",
       "    <tr>\n",
       "      <th>butcha</th>\n",
       "      <td>1000</td>\n",
       "      <td>2900</td>\n",
       "    </tr>\n",
       "    <tr>\n",
       "      <th>satins</th>\n",
       "      <td>1100</td>\n",
       "      <td>4600</td>\n",
       "    </tr>\n",
       "    <tr>\n",
       "      <th>bread-barge</th>\n",
       "      <td>2300</td>\n",
       "      <td>4000</td>\n",
       "    </tr>\n",
       "    <tr>\n",
       "      <th>pauline</th>\n",
       "      <td>2200</td>\n",
       "      <td>4400</td>\n",
       "    </tr>\n",
       "    <tr>\n",
       "      <th>unwearable</th>\n",
       "      <td>1900</td>\n",
       "      <td>3400</td>\n",
       "    </tr>\n",
       "    <tr>\n",
       "      <th>genericness</th>\n",
       "      <td>1800</td>\n",
       "      <td>2200</td>\n",
       "    </tr>\n",
       "  </tbody>\n",
       "</table>\n",
       "</div>"
      ],
      "text/plain": [
       "               col1  col2\n",
       "racket-ground  1300   900\n",
       "destined       1400  4200\n",
       "thatched       2000  3600\n",
       "intermetallic  1200  3100\n",
       "butcha         1000  2900\n",
       "satins         1100  4600\n",
       "bread-barge    2300  4000\n",
       "pauline        2200  4400\n",
       "unwearable     1900  3400\n",
       "genericness    1800  2200"
      ]
     },
     "execution_count": 278,
     "metadata": {},
     "output_type": "execute_result"
    }
   ],
   "source": [
    "df2= dataframe * 100\n",
    "df2"
   ]
  },
  {
   "cell_type": "code",
   "execution_count": 303,
   "metadata": {},
   "outputs": [
    {
     "data": {
      "text/html": [
       "<div>\n",
       "<style scoped>\n",
       "    .dataframe tbody tr th:only-of-type {\n",
       "        vertical-align: middle;\n",
       "    }\n",
       "\n",
       "    .dataframe tbody tr th {\n",
       "        vertical-align: top;\n",
       "    }\n",
       "\n",
       "    .dataframe thead th {\n",
       "        text-align: right;\n",
       "    }\n",
       "</style>\n",
       "<table border=\"1\" class=\"dataframe\">\n",
       "  <thead>\n",
       "    <tr style=\"text-align: right;\">\n",
       "      <th></th>\n",
       "      <th>col1</th>\n",
       "      <th>col2</th>\n",
       "    </tr>\n",
       "  </thead>\n",
       "  <tbody>\n",
       "    <tr>\n",
       "      <th>thatched</th>\n",
       "      <td>20</td>\n",
       "      <td>36</td>\n",
       "    </tr>\n",
       "    <tr>\n",
       "      <th>bread-barge</th>\n",
       "      <td>23</td>\n",
       "      <td>40</td>\n",
       "    </tr>\n",
       "    <tr>\n",
       "      <th>pauline</th>\n",
       "      <td>22</td>\n",
       "      <td>44</td>\n",
       "    </tr>\n",
       "    <tr>\n",
       "      <th>unwearable</th>\n",
       "      <td>19</td>\n",
       "      <td>34</td>\n",
       "    </tr>\n",
       "    <tr>\n",
       "      <th>genericness</th>\n",
       "      <td>18</td>\n",
       "      <td>22</td>\n",
       "    </tr>\n",
       "  </tbody>\n",
       "</table>\n",
       "</div>"
      ],
      "text/plain": [
       "             col1  col2\n",
       "thatched       20    36\n",
       "bread-barge    23    40\n",
       "pauline        22    44\n",
       "unwearable     19    34\n",
       "genericness    18    22"
      ]
     },
     "execution_count": 303,
     "metadata": {},
     "output_type": "execute_result"
    }
   ],
   "source": [
    "# show values over 15\n",
    "dataframe[dataframe['col1'] > 15]"
   ]
  },
  {
   "cell_type": "code",
   "execution_count": null,
   "metadata": {},
   "outputs": [
    {
     "data": {
      "text/html": [
       "<div>\n",
       "<style scoped>\n",
       "    .dataframe tbody tr th:only-of-type {\n",
       "        vertical-align: middle;\n",
       "    }\n",
       "\n",
       "    .dataframe tbody tr th {\n",
       "        vertical-align: top;\n",
       "    }\n",
       "\n",
       "    .dataframe thead th {\n",
       "        text-align: right;\n",
       "    }\n",
       "</style>\n",
       "<table border=\"1\" class=\"dataframe\">\n",
       "  <thead>\n",
       "    <tr style=\"text-align: right;\">\n",
       "      <th></th>\n",
       "      <th>col1</th>\n",
       "      <th>col2</th>\n",
       "    </tr>\n",
       "  </thead>\n",
       "  <tbody>\n",
       "    <tr>\n",
       "      <th>thatched</th>\n",
       "      <td>20</td>\n",
       "      <td>36</td>\n",
       "    </tr>\n",
       "    <tr>\n",
       "      <th>bread-barge</th>\n",
       "      <td>23</td>\n",
       "      <td>40</td>\n",
       "    </tr>\n",
       "    <tr>\n",
       "      <th>pauline</th>\n",
       "      <td>22</td>\n",
       "      <td>44</td>\n",
       "    </tr>\n",
       "    <tr>\n",
       "      <th>unwearable</th>\n",
       "      <td>19</td>\n",
       "      <td>34</td>\n",
       "    </tr>\n",
       "    <tr>\n",
       "      <th>genericness</th>\n",
       "      <td>18</td>\n",
       "      <td>22</td>\n",
       "    </tr>\n",
       "  </tbody>\n",
       "</table>\n",
       "</div>"
      ],
      "text/plain": [
       "             col1  col2\n",
       "thatched       20    36\n",
       "bread-barge    23    40\n",
       "pauline        22    44\n",
       "unwearable     19    34\n",
       "genericness    18    22"
      ]
     },
     "metadata": {},
     "output_type": "display_data"
    }
   ],
   "source": [
    "# show values over 15\n",
    "dataframe[dataframe['col1'] > 15]"
   ]
  },
  {
   "cell_type": "markdown",
   "metadata": {},
   "source": [
    "Create a new column that provides a cumulative sum value"
   ]
  },
  {
   "cell_type": "code",
   "execution_count": 280,
   "metadata": {},
   "outputs": [
    {
     "data": {
      "text/html": [
       "<div>\n",
       "<style scoped>\n",
       "    .dataframe tbody tr th:only-of-type {\n",
       "        vertical-align: middle;\n",
       "    }\n",
       "\n",
       "    .dataframe tbody tr th {\n",
       "        vertical-align: top;\n",
       "    }\n",
       "\n",
       "    .dataframe thead th {\n",
       "        text-align: right;\n",
       "    }\n",
       "</style>\n",
       "<table border=\"1\" class=\"dataframe\">\n",
       "  <thead>\n",
       "    <tr style=\"text-align: right;\">\n",
       "      <th></th>\n",
       "      <th>col1</th>\n",
       "      <th>col2</th>\n",
       "      <th>col3</th>\n",
       "    </tr>\n",
       "  </thead>\n",
       "  <tbody>\n",
       "    <tr>\n",
       "      <th>racket-ground</th>\n",
       "      <td>1300</td>\n",
       "      <td>900</td>\n",
       "      <td>900</td>\n",
       "    </tr>\n",
       "    <tr>\n",
       "      <th>destined</th>\n",
       "      <td>1400</td>\n",
       "      <td>4200</td>\n",
       "      <td>5100</td>\n",
       "    </tr>\n",
       "    <tr>\n",
       "      <th>thatched</th>\n",
       "      <td>2000</td>\n",
       "      <td>3600</td>\n",
       "      <td>8700</td>\n",
       "    </tr>\n",
       "    <tr>\n",
       "      <th>intermetallic</th>\n",
       "      <td>1200</td>\n",
       "      <td>3100</td>\n",
       "      <td>11800</td>\n",
       "    </tr>\n",
       "    <tr>\n",
       "      <th>butcha</th>\n",
       "      <td>1000</td>\n",
       "      <td>2900</td>\n",
       "      <td>14700</td>\n",
       "    </tr>\n",
       "    <tr>\n",
       "      <th>satins</th>\n",
       "      <td>1100</td>\n",
       "      <td>4600</td>\n",
       "      <td>19300</td>\n",
       "    </tr>\n",
       "    <tr>\n",
       "      <th>bread-barge</th>\n",
       "      <td>2300</td>\n",
       "      <td>4000</td>\n",
       "      <td>23300</td>\n",
       "    </tr>\n",
       "    <tr>\n",
       "      <th>pauline</th>\n",
       "      <td>2200</td>\n",
       "      <td>4400</td>\n",
       "      <td>27700</td>\n",
       "    </tr>\n",
       "    <tr>\n",
       "      <th>unwearable</th>\n",
       "      <td>1900</td>\n",
       "      <td>3400</td>\n",
       "      <td>31100</td>\n",
       "    </tr>\n",
       "    <tr>\n",
       "      <th>genericness</th>\n",
       "      <td>1800</td>\n",
       "      <td>2200</td>\n",
       "      <td>33300</td>\n",
       "    </tr>\n",
       "  </tbody>\n",
       "</table>\n",
       "</div>"
      ],
      "text/plain": [
       "               col1  col2   col3\n",
       "racket-ground  1300   900    900\n",
       "destined       1400  4200   5100\n",
       "thatched       2000  3600   8700\n",
       "intermetallic  1200  3100  11800\n",
       "butcha         1000  2900  14700\n",
       "satins         1100  4600  19300\n",
       "bread-barge    2300  4000  23300\n",
       "pauline        2200  4400  27700\n",
       "unwearable     1900  3400  31100\n",
       "genericness    1800  2200  33300"
      ]
     },
     "execution_count": 280,
     "metadata": {},
     "output_type": "execute_result"
    }
   ],
   "source": [
    "df2['col3'] = df2['col2'].cumsum()\n",
    "df2"
   ]
  },
  {
   "cell_type": "code",
   "execution_count": 304,
   "metadata": {},
   "outputs": [],
   "source": [
    "df2.to_excel(\"df_data.xlsx\")"
   ]
  },
  {
   "cell_type": "markdown",
   "metadata": {},
   "source": [
    "## Next to apply this to the Veeam API\n",
    "\n",
    "Next log into the Enterprise Manager API using Veeam Easy Connect"
   ]
  },
  {
   "cell_type": "code",
   "execution_count": 281,
   "metadata": {},
   "outputs": [],
   "source": [
    "username = \"username\"\n",
    "password = getpass.getpass(\"Enter password: \")\n",
    "address = \"YOUR_ENTERPRISE_MANAGER_API_ADDRESS\" # ip or DNS\n",
    "veeam_ec = VeeamEasyConnect(username, password, False) # Insecure\n",
    "header = veeam_ec.ent_man().login(address)"
   ]
  },
  {
   "cell_type": "markdown",
   "metadata": {},
   "source": [
    "Grab an endpoint from the Veeam Documentation, in this case we will use the **/query?type=BackupFile** endpoint.\n",
    "\n",
    "[/querySvc backupFile - Help Guide](https://helpcenter.veeam.com/docs/backup/em_rest/get_query_backupfile.html?ver=110)\n",
    "\n",
    "Note that the &format=Entities means we will get back all the backup file information in a single call."
   ]
  },
  {
   "cell_type": "code",
   "execution_count": 283,
   "metadata": {},
   "outputs": [],
   "source": [
    "address = input(\"Enter Server Address: \")\n",
    "url = f\"https://{address}:9398/api/query?type=BackupFile&format=Entities\""
   ]
  },
  {
   "cell_type": "markdown",
   "metadata": {},
   "source": [
    "Then make a request to get the data"
   ]
  },
  {
   "cell_type": "code",
   "execution_count": 284,
   "metadata": {},
   "outputs": [],
   "source": [
    "bu_data = veeam_ec.get(url)"
   ]
  },
  {
   "cell_type": "markdown",
   "metadata": {},
   "source": [
    "## Start applying this to the Veeam API\n",
    "\n",
    "First we will filter out the data that we want from the backup file response"
   ]
  },
  {
   "cell_type": "code",
   "execution_count": 285,
   "metadata": {},
   "outputs": [
    {
     "data": {
      "text/plain": [
       "dict_keys(['Refs', 'Entities', 'Resources', 'Links', 'PagingInfo'])"
      ]
     },
     "execution_count": 285,
     "metadata": {},
     "output_type": "execute_result"
    }
   ],
   "source": [
    "bu_data.keys()"
   ]
  },
  {
   "cell_type": "code",
   "execution_count": 286,
   "metadata": {},
   "outputs": [
    {
     "data": {
      "text/plain": [
       "dict_keys(['Jobs', 'FailoverPlans', 'Backups', 'Replicas', 'Repositories', 'RestorePoints', 'VmRestorePoints', 'VAppRestorePoints', 'VmReplicaPoints', 'BackupJobSessions', 'ReplicaJobSessions', 'ReplicaTaskSessions', 'RestoreSessions', 'HierarchyRoots', 'BackupTaskSessions', 'BackupServers', 'ManagedServers', 'EnterpiseRoles', 'EnterpiseAccounts', 'WanAccelerators', 'CloudGateways', 'CloudTenants', 'CloudReplicas', 'VCloudOrganizationConfigs', 'BackupFiles', 'VSphereSelfServiceConfigs', 'CloudPublicIps', 'CloudHardwarePlans', 'CloudVmReplicaPoints', 'AgentRestorePoints', 'AgentBackupJob', 'CloudGatewayPools', 'CloudFailoverPlans', 'ExternalRepositories', 'VlanConfigurations', 'CloudFailoverSessions', 'AgentProtectionGroups', 'DiscoveredComputers', 'FileServers', 'NASJobs', 'CdpReplicas', 'CdpReplicaVms', 'CdpPolicies', 'CdpReplicaSessions', 'CdpReplicaTaskSessions', 'VAppReplicaPoints'])"
      ]
     },
     "execution_count": 286,
     "metadata": {},
     "output_type": "execute_result"
    }
   ],
   "source": [
    "bu_data['Entities'].keys()"
   ]
  },
  {
   "cell_type": "markdown",
   "metadata": {},
   "source": [
    "We will grab the key capacity data from the endpoint"
   ]
  },
  {
   "cell_type": "code",
   "execution_count": 287,
   "metadata": {},
   "outputs": [
    {
     "data": {
      "text/plain": [
       "dict_keys(['FilePath', 'BackupSize', 'DataSize', 'DeduplicationRatio', 'CompressRatio', 'CreationTimeUtc', 'FileType', 'Name', 'UID', 'Links', 'Href', 'Type'])"
      ]
     },
     "execution_count": 287,
     "metadata": {},
     "output_type": "execute_result"
    }
   ],
   "source": [
    "bu_data['Entities']['BackupFiles']['BackupFiles'][0].keys()"
   ]
  },
  {
   "cell_type": "code",
   "execution_count": 288,
   "metadata": {},
   "outputs": [],
   "source": [
    "filter_bu = []\n",
    "# creating a new variable for just the backup files\n",
    "bu_data2 = bu_data['Entities']['BackupFiles']['BackupFiles']\n",
    "\n",
    "for i in bu_data2:\n",
    "    data = {\n",
    "        \"BackupSize\": i[\"BackupSize\"],\n",
    "        \"DataSize\": i[\"DataSize\"],\n",
    "        \"DeduplicationRatio\": i[\"DeduplicationRatio\"],\n",
    "        \"CompressRatio\": i[\"CompressRatio\"],\n",
    "        \"CreationTimeUtc\": i[\"CreationTimeUtc\"],\n",
    "        \"FileType\": i[\"FileType\"],\n",
    "        \"jobName\": i[\"Links\"][0][\"Name\"]\n",
    "    }\n",
    "    filter_bu.append(data)"
   ]
  },
  {
   "cell_type": "markdown",
   "metadata": {},
   "source": [
    "The data we have now is 'flat' in that we have don't have nested dictionaries or lists.\n",
    "\n",
    "Below we can see a single entry in the list we created"
   ]
  },
  {
   "cell_type": "code",
   "execution_count": 289,
   "metadata": {},
   "outputs": [
    {
     "data": {
      "text/plain": [
       "{'BackupSize': 40292352,\n",
       " 'DataSize': 219798776,\n",
       " 'DeduplicationRatio': 1.0,\n",
       " 'CompressRatio': 5.56,\n",
       " 'CreationTimeUtc': '2021-09-03T18:00:18Z',\n",
       " 'FileType': 'vib',\n",
       " 'jobName': 'solaris solaris_job'}"
      ]
     },
     "execution_count": 289,
     "metadata": {},
     "output_type": "execute_result"
    }
   ],
   "source": [
    "filter_bu[0]"
   ]
  },
  {
   "cell_type": "markdown",
   "metadata": {},
   "source": [
    "We are going now create a Dataframe from this data. You will see that this is very easy to do."
   ]
  },
  {
   "cell_type": "code",
   "execution_count": 290,
   "metadata": {},
   "outputs": [],
   "source": [
    "bu_df = pd.DataFrame.from_dict(filter_bu)"
   ]
  },
  {
   "cell_type": "code",
   "execution_count": 291,
   "metadata": {},
   "outputs": [
    {
     "data": {
      "text/html": [
       "<div>\n",
       "<style scoped>\n",
       "    .dataframe tbody tr th:only-of-type {\n",
       "        vertical-align: middle;\n",
       "    }\n",
       "\n",
       "    .dataframe tbody tr th {\n",
       "        vertical-align: top;\n",
       "    }\n",
       "\n",
       "    .dataframe thead th {\n",
       "        text-align: right;\n",
       "    }\n",
       "</style>\n",
       "<table border=\"1\" class=\"dataframe\">\n",
       "  <thead>\n",
       "    <tr style=\"text-align: right;\">\n",
       "      <th></th>\n",
       "      <th>BackupSize</th>\n",
       "      <th>DataSize</th>\n",
       "      <th>DeduplicationRatio</th>\n",
       "      <th>CompressRatio</th>\n",
       "      <th>CreationTimeUtc</th>\n",
       "      <th>FileType</th>\n",
       "      <th>jobName</th>\n",
       "    </tr>\n",
       "  </thead>\n",
       "  <tbody>\n",
       "    <tr>\n",
       "      <th>0</th>\n",
       "      <td>40292352</td>\n",
       "      <td>219798776</td>\n",
       "      <td>1.00</td>\n",
       "      <td>5.56</td>\n",
       "      <td>2021-09-03T18:00:18Z</td>\n",
       "      <td>vib</td>\n",
       "      <td>solaris solaris_job</td>\n",
       "    </tr>\n",
       "    <tr>\n",
       "      <th>1</th>\n",
       "      <td>9074769920</td>\n",
       "      <td>43589968582</td>\n",
       "      <td>3.17</td>\n",
       "      <td>1.52</td>\n",
       "      <td>2021-06-26T17:00:26.123Z</td>\n",
       "      <td>vbk</td>\n",
       "      <td>Agent to AWS - dc1backupvm3.testlab.net</td>\n",
       "    </tr>\n",
       "    <tr>\n",
       "      <th>2</th>\n",
       "      <td>20492288</td>\n",
       "      <td>22020096</td>\n",
       "      <td>1.00</td>\n",
       "      <td>1.59</td>\n",
       "      <td>2021-04-15T15:37:46Z</td>\n",
       "      <td>vib</td>\n",
       "      <td>Mac Backup - Edwards-MacBook-Air.local</td>\n",
       "    </tr>\n",
       "    <tr>\n",
       "      <th>3</th>\n",
       "      <td>778895360</td>\n",
       "      <td>8589979960</td>\n",
       "      <td>4.96</td>\n",
       "      <td>2.22</td>\n",
       "      <td>2021-08-29T21:00:35.817Z</td>\n",
       "      <td>vbk</td>\n",
       "      <td>PerJob</td>\n",
       "    </tr>\n",
       "    <tr>\n",
       "      <th>4</th>\n",
       "      <td>370257920</td>\n",
       "      <td>838892876</td>\n",
       "      <td>1.00</td>\n",
       "      <td>2.27</td>\n",
       "      <td>2021-06-27T16:00:37.733Z</td>\n",
       "      <td>vib</td>\n",
       "      <td>Agent Backup Job 1 - dc1backupvm3.testlab.net</td>\n",
       "    </tr>\n",
       "  </tbody>\n",
       "</table>\n",
       "</div>"
      ],
      "text/plain": [
       "   BackupSize     DataSize  DeduplicationRatio  CompressRatio  \\\n",
       "0    40292352    219798776                1.00           5.56   \n",
       "1  9074769920  43589968582                3.17           1.52   \n",
       "2    20492288     22020096                1.00           1.59   \n",
       "3   778895360   8589979960                4.96           2.22   \n",
       "4   370257920    838892876                1.00           2.27   \n",
       "\n",
       "            CreationTimeUtc FileType  \\\n",
       "0      2021-09-03T18:00:18Z      vib   \n",
       "1  2021-06-26T17:00:26.123Z      vbk   \n",
       "2      2021-04-15T15:37:46Z      vib   \n",
       "3  2021-08-29T21:00:35.817Z      vbk   \n",
       "4  2021-06-27T16:00:37.733Z      vib   \n",
       "\n",
       "                                         jobName  \n",
       "0                            solaris solaris_job  \n",
       "1        Agent to AWS - dc1backupvm3.testlab.net  \n",
       "2         Mac Backup - Edwards-MacBook-Air.local  \n",
       "3                                         PerJob  \n",
       "4  Agent Backup Job 1 - dc1backupvm3.testlab.net  "
      ]
     },
     "execution_count": 291,
     "metadata": {},
     "output_type": "execute_result"
    }
   ],
   "source": [
    "bu_df.head()"
   ]
  },
  {
   "cell_type": "markdown",
   "metadata": {},
   "source": [
    "The BackupSize and DataSize values are in bytes so we need to change these to something more manageable."
   ]
  },
  {
   "cell_type": "code",
   "execution_count": 292,
   "metadata": {},
   "outputs": [],
   "source": [
    "bu_df['BackupSizeGB'] = bu_df['BackupSize'] / 1024**3\n",
    "bu_df['DataSizeGB'] = bu_df['DataSize'] / 1024**3"
   ]
  },
  {
   "cell_type": "code",
   "execution_count": 293,
   "metadata": {},
   "outputs": [
    {
     "data": {
      "text/html": [
       "<div>\n",
       "<style scoped>\n",
       "    .dataframe tbody tr th:only-of-type {\n",
       "        vertical-align: middle;\n",
       "    }\n",
       "\n",
       "    .dataframe tbody tr th {\n",
       "        vertical-align: top;\n",
       "    }\n",
       "\n",
       "    .dataframe thead th {\n",
       "        text-align: right;\n",
       "    }\n",
       "</style>\n",
       "<table border=\"1\" class=\"dataframe\">\n",
       "  <thead>\n",
       "    <tr style=\"text-align: right;\">\n",
       "      <th></th>\n",
       "      <th>BackupSize</th>\n",
       "      <th>DataSize</th>\n",
       "      <th>DeduplicationRatio</th>\n",
       "      <th>CompressRatio</th>\n",
       "      <th>CreationTimeUtc</th>\n",
       "      <th>FileType</th>\n",
       "      <th>jobName</th>\n",
       "      <th>BackupSizeGB</th>\n",
       "      <th>DataSizeGB</th>\n",
       "    </tr>\n",
       "  </thead>\n",
       "  <tbody>\n",
       "    <tr>\n",
       "      <th>0</th>\n",
       "      <td>40292352</td>\n",
       "      <td>219798776</td>\n",
       "      <td>1.00</td>\n",
       "      <td>5.56</td>\n",
       "      <td>2021-09-03T18:00:18Z</td>\n",
       "      <td>vib</td>\n",
       "      <td>solaris solaris_job</td>\n",
       "      <td>0.037525</td>\n",
       "      <td>0.204704</td>\n",
       "    </tr>\n",
       "    <tr>\n",
       "      <th>1</th>\n",
       "      <td>9074769920</td>\n",
       "      <td>43589968582</td>\n",
       "      <td>3.17</td>\n",
       "      <td>1.52</td>\n",
       "      <td>2021-06-26T17:00:26.123Z</td>\n",
       "      <td>vbk</td>\n",
       "      <td>Agent to AWS - dc1backupvm3.testlab.net</td>\n",
       "      <td>8.451538</td>\n",
       "      <td>40.596322</td>\n",
       "    </tr>\n",
       "    <tr>\n",
       "      <th>2</th>\n",
       "      <td>20492288</td>\n",
       "      <td>22020096</td>\n",
       "      <td>1.00</td>\n",
       "      <td>1.59</td>\n",
       "      <td>2021-04-15T15:37:46Z</td>\n",
       "      <td>vib</td>\n",
       "      <td>Mac Backup - Edwards-MacBook-Air.local</td>\n",
       "      <td>0.019085</td>\n",
       "      <td>0.020508</td>\n",
       "    </tr>\n",
       "    <tr>\n",
       "      <th>3</th>\n",
       "      <td>778895360</td>\n",
       "      <td>8589979960</td>\n",
       "      <td>4.96</td>\n",
       "      <td>2.22</td>\n",
       "      <td>2021-08-29T21:00:35.817Z</td>\n",
       "      <td>vbk</td>\n",
       "      <td>PerJob</td>\n",
       "      <td>0.725403</td>\n",
       "      <td>8.000042</td>\n",
       "    </tr>\n",
       "    <tr>\n",
       "      <th>4</th>\n",
       "      <td>370257920</td>\n",
       "      <td>838892876</td>\n",
       "      <td>1.00</td>\n",
       "      <td>2.27</td>\n",
       "      <td>2021-06-27T16:00:37.733Z</td>\n",
       "      <td>vib</td>\n",
       "      <td>Agent Backup Job 1 - dc1backupvm3.testlab.net</td>\n",
       "      <td>0.344830</td>\n",
       "      <td>0.781280</td>\n",
       "    </tr>\n",
       "  </tbody>\n",
       "</table>\n",
       "</div>"
      ],
      "text/plain": [
       "   BackupSize     DataSize  DeduplicationRatio  CompressRatio  \\\n",
       "0    40292352    219798776                1.00           5.56   \n",
       "1  9074769920  43589968582                3.17           1.52   \n",
       "2    20492288     22020096                1.00           1.59   \n",
       "3   778895360   8589979960                4.96           2.22   \n",
       "4   370257920    838892876                1.00           2.27   \n",
       "\n",
       "            CreationTimeUtc FileType  \\\n",
       "0      2021-09-03T18:00:18Z      vib   \n",
       "1  2021-06-26T17:00:26.123Z      vbk   \n",
       "2      2021-04-15T15:37:46Z      vib   \n",
       "3  2021-08-29T21:00:35.817Z      vbk   \n",
       "4  2021-06-27T16:00:37.733Z      vib   \n",
       "\n",
       "                                         jobName  BackupSizeGB  DataSizeGB  \n",
       "0                            solaris solaris_job      0.037525    0.204704  \n",
       "1        Agent to AWS - dc1backupvm3.testlab.net      8.451538   40.596322  \n",
       "2         Mac Backup - Edwards-MacBook-Air.local      0.019085    0.020508  \n",
       "3                                         PerJob      0.725403    8.000042  \n",
       "4  Agent Backup Job 1 - dc1backupvm3.testlab.net      0.344830    0.781280  "
      ]
     },
     "execution_count": 293,
     "metadata": {},
     "output_type": "execute_result"
    }
   ],
   "source": [
    "bu_df.head()\n",
    "# .head() shows just the first few items, you can also use .tail() "
   ]
  },
  {
   "cell_type": "markdown",
   "metadata": {},
   "source": [
    "You can drop columns with the .drop method [link](https://pandas.pydata.org/docs/reference/api/pandas.DataFrame.drop.html?highlight=drop#pandas.DataFrame.drop)\n",
    "\n",
    "We can now do a quick bit of analysis, let's filter out the vib and calculate the average Backup Size"
   ]
  },
  {
   "cell_type": "code",
   "execution_count": 294,
   "metadata": {},
   "outputs": [],
   "source": [
    "bu_vib = bu_df[bu_df['FileType'] == \"vib\"].copy()"
   ]
  },
  {
   "cell_type": "code",
   "execution_count": 295,
   "metadata": {},
   "outputs": [
    {
     "data": {
      "text/plain": [
       "1.723814519910285"
      ]
     },
     "execution_count": 295,
     "metadata": {},
     "output_type": "execute_result"
    }
   ],
   "source": [
    "bu_vib['DataSizeGB'].mean()"
   ]
  },
  {
   "cell_type": "code",
   "execution_count": 305,
   "metadata": {},
   "outputs": [
    {
     "data": {
      "text/plain": [
       "13.80764176696539"
      ]
     },
     "execution_count": 305,
     "metadata": {},
     "output_type": "execute_result"
    }
   ],
   "source": [
    "bu_vib['DataSizeGB'].max()"
   ]
  },
  {
   "cell_type": "markdown",
   "metadata": {},
   "source": [
    "Next we can have a look at the average compression per Job\n",
    "\n",
    "Check out the docs on [.loc](https://pandas.pydata.org/docs/reference/api/pandas.DataFrame.loc.html)"
   ]
  },
  {
   "cell_type": "code",
   "execution_count": 297,
   "metadata": {},
   "outputs": [],
   "source": [
    "# first change the ratio to a percentage\n",
    "bu_vib.loc[:, \"CompressPercentage\"] = bu_vib[\"CompressRatio\"] * 100"
   ]
  },
  {
   "cell_type": "code",
   "execution_count": 298,
   "metadata": {},
   "outputs": [
    {
     "data": {
      "text/html": [
       "<div>\n",
       "<style scoped>\n",
       "    .dataframe tbody tr th:only-of-type {\n",
       "        vertical-align: middle;\n",
       "    }\n",
       "\n",
       "    .dataframe tbody tr th {\n",
       "        vertical-align: top;\n",
       "    }\n",
       "\n",
       "    .dataframe thead th {\n",
       "        text-align: right;\n",
       "    }\n",
       "</style>\n",
       "<table border=\"1\" class=\"dataframe\">\n",
       "  <thead>\n",
       "    <tr style=\"text-align: right;\">\n",
       "      <th></th>\n",
       "      <th>CompressRatio</th>\n",
       "      <th>CompressPercentage</th>\n",
       "    </tr>\n",
       "    <tr>\n",
       "      <th>jobName</th>\n",
       "      <th></th>\n",
       "      <th></th>\n",
       "    </tr>\n",
       "  </thead>\n",
       "  <tbody>\n",
       "    <tr>\n",
       "      <th>Mixed SOBR</th>\n",
       "      <td>7.14</td>\n",
       "      <td>714.00</td>\n",
       "    </tr>\n",
       "    <tr>\n",
       "      <th>k8s</th>\n",
       "      <td>5.75</td>\n",
       "      <td>574.70</td>\n",
       "    </tr>\n",
       "    <tr>\n",
       "      <th>solaris solaris_job</th>\n",
       "      <td>5.56</td>\n",
       "      <td>556.00</td>\n",
       "    </tr>\n",
       "    <tr>\n",
       "      <th>PerJob</th>\n",
       "      <td>5.44</td>\n",
       "      <td>543.71</td>\n",
       "    </tr>\n",
       "    <tr>\n",
       "      <th>SQL1</th>\n",
       "      <td>3.01</td>\n",
       "      <td>300.57</td>\n",
       "    </tr>\n",
       "    <tr>\n",
       "      <th>Agent Backup Job 1 - dc1backupvm3.testlab.net</th>\n",
       "      <td>2.38</td>\n",
       "      <td>237.86</td>\n",
       "    </tr>\n",
       "    <tr>\n",
       "      <th>Agent to AWS - dc1backupvm3.testlab.net</th>\n",
       "      <td>2.21</td>\n",
       "      <td>221.43</td>\n",
       "    </tr>\n",
       "    <tr>\n",
       "      <th>Tiny NFS vm</th>\n",
       "      <td>2.17</td>\n",
       "      <td>217.00</td>\n",
       "    </tr>\n",
       "    <tr>\n",
       "      <th>Mac Backup - Edwards-MacBook-Air.local</th>\n",
       "      <td>1.67</td>\n",
       "      <td>167.17</td>\n",
       "    </tr>\n",
       "  </tbody>\n",
       "</table>\n",
       "</div>"
      ],
      "text/plain": [
       "                                               CompressRatio  \\\n",
       "jobName                                                        \n",
       "Mixed SOBR                                              7.14   \n",
       "k8s                                                     5.75   \n",
       "solaris solaris_job                                     5.56   \n",
       "PerJob                                                  5.44   \n",
       "SQL1                                                    3.01   \n",
       "Agent Backup Job 1 - dc1backupvm3.testlab.net           2.38   \n",
       "Agent to AWS - dc1backupvm3.testlab.net                 2.21   \n",
       "Tiny NFS vm                                             2.17   \n",
       "Mac Backup - Edwards-MacBook-Air.local                  1.67   \n",
       "\n",
       "                                               CompressPercentage  \n",
       "jobName                                                            \n",
       "Mixed SOBR                                                 714.00  \n",
       "k8s                                                        574.70  \n",
       "solaris solaris_job                                        556.00  \n",
       "PerJob                                                     543.71  \n",
       "SQL1                                                       300.57  \n",
       "Agent Backup Job 1 - dc1backupvm3.testlab.net              237.86  \n",
       "Agent to AWS - dc1backupvm3.testlab.net                    221.43  \n",
       "Tiny NFS vm                                                217.00  \n",
       "Mac Backup - Edwards-MacBook-Air.local                     167.17  "
      ]
     },
     "execution_count": 298,
     "metadata": {},
     "output_type": "execute_result"
    }
   ],
   "source": [
    "bu_vib.groupby(\"jobName\")[['CompressRatio', 'CompressPercentage']].mean().round(2).sort_values(\"CompressRatio\", ascending=False)"
   ]
  }
 ],
 "metadata": {
  "interpreter": {
   "hash": "907c7fe4cb4e511b42727ae84c4d85e9a0cc88b3b995d6fcfd67872026398923"
  },
  "kernelspec": {
   "display_name": "Python 3.9.6 64-bit",
   "name": "python3"
  },
  "language_info": {
   "codemirror_mode": {
    "name": "ipython",
    "version": 3
   },
   "file_extension": ".py",
   "mimetype": "text/x-python",
   "name": "python",
   "nbconvert_exporter": "python",
   "pygments_lexer": "ipython3",
   "version": "3.9.6"
  },
  "orig_nbformat": 4
 },
 "nbformat": 4,
 "nbformat_minor": 2
}
