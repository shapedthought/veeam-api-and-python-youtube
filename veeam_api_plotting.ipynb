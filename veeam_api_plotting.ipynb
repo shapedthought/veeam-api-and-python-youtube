{
 "cells": [
  {
   "cell_type": "code",
   "execution_count": null,
   "source": [
    "%matplotlib inline"
   ],
   "outputs": [],
   "metadata": {}
  },
  {
   "cell_type": "code",
   "execution_count": null,
   "source": [
    "bu_cal.dtypes\r\n",
    "bu_cal['CreationTimeUtc'] = pd.to_datetime(bu_cal['CreationTimeUtc'])\r\n",
    "bu_cal.dtypes\r\n",
    "bu_cal.sort_values(\"CreationTimeUtc\", ascending=True, inplace=True)"
   ],
   "outputs": [],
   "metadata": {}
  },
  {
   "cell_type": "code",
   "execution_count": null,
   "source": [
    "import matplotlib.pyplot as plt\r\n",
    "plt.rcParams['figure.figsize'] = [20, 10]\r\n",
    "\r\n",
    "bu_cal.plot(kind=\"bar\", x=\"CreationTimeUtc\", y=[\"BackupSizeGB\", \"DataSizeGB\", \"CompressRatio\"])\r\n",
    "plt.locator_params(axis=\"x\", nbins=20) \r\n",
    "plt.xticks(rotation= 90)\r\n",
    "# plt.tight_layout()\r\n",
    "plt.show()"
   ],
   "outputs": [],
   "metadata": {}
  }
 ],
 "metadata": {
  "orig_nbformat": 4,
  "language_info": {
   "name": "python"
  }
 },
 "nbformat": 4,
 "nbformat_minor": 2
}